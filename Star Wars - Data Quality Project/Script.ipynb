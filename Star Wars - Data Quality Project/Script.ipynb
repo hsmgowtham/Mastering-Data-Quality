{
 "cells": [
  {
   "cell_type": "code",
   "execution_count": 1,
   "id": "1cc7de43-1f0e-4a9d-bcf0-2b9016e234be",
   "metadata": {},
   "outputs": [
    {
     "name": "stdout",
     "output_type": "stream",
     "text": [
      "Requirement already satisfied: pyspark in /Users/gowthamhanumanthu/Documents/MSS/12. Big Data/Mastering-Data-Quality/venv/lib/python3.13/site-packages (3.5.5)\n",
      "Requirement already satisfied: py4j==0.10.9.7 in /Users/gowthamhanumanthu/Documents/MSS/12. Big Data/Mastering-Data-Quality/venv/lib/python3.13/site-packages (from pyspark) (0.10.9.7)\n"
     ]
    }
   ],
   "source": [
    "!pip install pyspark;\n"
   ]
  },
  {
   "cell_type": "code",
   "execution_count": 2,
   "id": "fd3a6249-b7bd-4f52-af8c-9e343b767772",
   "metadata": {},
   "outputs": [],
   "source": [
    "import pyspark"
   ]
  },
  {
   "cell_type": "markdown",
   "id": "32e46d8f-e597-4830-8169-884a00807362",
   "metadata": {},
   "source": [
    "# Know your machine resources"
   ]
  },
  {
   "cell_type": "code",
   "execution_count": 1,
   "id": "31ebbdc4-db49-4f96-ac1d-c04ad125fa56",
   "metadata": {},
   "outputs": [
    {
     "name": "stdout",
     "output_type": "stream",
     "text": [
      "8\n",
      "17179869184\n"
     ]
    }
   ],
   "source": [
    "# CPU Cores\n",
    "!sysctl -n hw.logicalcpu\n",
    "\n",
    "# Memory in Bytes\n",
    "!sysctl -n hw.memsize"
   ]
  },
  {
   "cell_type": "code",
   "execution_count": 3,
   "id": "47a2945f-3cd0-4e84-ab7e-2d1a594d58ea",
   "metadata": {},
   "outputs": [
    {
     "data": {
      "text/plain": [
       "16.0"
      ]
     },
     "execution_count": 3,
     "metadata": {},
     "output_type": "execute_result"
    }
   ],
   "source": [
    "# Memory in GB\n",
    "17179869184/(1024**3)"
   ]
  },
  {
   "cell_type": "code",
   "execution_count": 4,
   "id": "aef09268-e6a6-4142-94e0-f116d57cb325",
   "metadata": {},
   "outputs": [],
   "source": [
    "MAX_MEMORY = '4g'\n",
    "MAX_MEMORY_OVERHEAD = '1g'\n",
    "MAX_DRIVER_MEMORY = '1g'"
   ]
  },
  {
   "cell_type": "code",
   "execution_count": null,
   "id": "5cae69c9-a255-4dc0-a934-12c709fdffbe",
   "metadata": {},
   "outputs": [],
   "source": [
    "conf = pyspark.SparkConf().setMaster(\"local[2]\") \\\n",
    "        # .set('spark.executor.heartbeatInterval', 10000) \\\n",
    "        # .set('spark.network.timeout', 10000) \\\n",
    "        # .set('spark.core.connection.ack.wait.timeout', '3600') \\\n",
    "        .set('spark.executor.memory', MAX_MEMORY) \\\n",
    "        .set('spark.executor.memoryOverhead', MAX_MEMORY_OVERHEAD) \\\n",
    "        .set('spark.driver.memory', MAX_DRIVER_MEMORY)"
   ]
  }
 ],
 "metadata": {
  "kernelspec": {
   "display_name": "Python 3 (ipykernel)",
   "language": "python",
   "name": "python3"
  },
  "language_info": {
   "codemirror_mode": {
    "name": "ipython",
    "version": 3
   },
   "file_extension": ".py",
   "mimetype": "text/x-python",
   "name": "python",
   "nbconvert_exporter": "python",
   "pygments_lexer": "ipython3",
   "version": "3.13.0"
  }
 },
 "nbformat": 4,
 "nbformat_minor": 5
}
