{
 "cells": [
  {
   "cell_type": "markdown",
   "id": "3dc348b1-a123-48ab-b7e4-72feb0e750fb",
   "metadata": {},
   "source": [
    "# Star Wars - Data Quality Project"
   ]
  },
  {
   "cell_type": "code",
   "execution_count": 1,
   "id": "1cc7de43-1f0e-4a9d-bcf0-2b9016e234be",
   "metadata": {},
   "outputs": [
    {
     "name": "stdout",
     "output_type": "stream",
     "text": [
      "Requirement already satisfied: pyspark in /Users/gowthamhanumanthu/Documents/MSS/12. Big Data/Mastering-Data-Quality/venv/lib/python3.13/site-packages (3.5.5)\n",
      "Requirement already satisfied: py4j==0.10.9.7 in /Users/gowthamhanumanthu/Documents/MSS/12. Big Data/Mastering-Data-Quality/venv/lib/python3.13/site-packages (from pyspark) (0.10.9.7)\n"
     ]
    }
   ],
   "source": [
    "!pip install pyspark;\n"
   ]
  },
  {
   "cell_type": "code",
   "execution_count": 1,
   "id": "fd3a6249-b7bd-4f52-af8c-9e343b767772",
   "metadata": {},
   "outputs": [],
   "source": [
    "import pyspark"
   ]
  },
  {
   "cell_type": "markdown",
   "id": "32e46d8f-e597-4830-8169-884a00807362",
   "metadata": {},
   "source": [
    "### Know your machine resources"
   ]
  },
  {
   "cell_type": "code",
   "execution_count": 2,
   "id": "31ebbdc4-db49-4f96-ac1d-c04ad125fa56",
   "metadata": {},
   "outputs": [
    {
     "name": "stdout",
     "output_type": "stream",
     "text": [
      "8\n",
      "17179869184\n"
     ]
    }
   ],
   "source": [
    "# CPU Cores\n",
    "!sysctl -n hw.logicalcpu\n",
    "\n",
    "# Memory in Bytes\n",
    "!sysctl -n hw.memsize"
   ]
  },
  {
   "cell_type": "code",
   "execution_count": 3,
   "id": "47a2945f-3cd0-4e84-ab7e-2d1a594d58ea",
   "metadata": {},
   "outputs": [
    {
     "data": {
      "text/plain": [
       "16.0"
      ]
     },
     "execution_count": 3,
     "metadata": {},
     "output_type": "execute_result"
    }
   ],
   "source": [
    "# Memory in GB\n",
    "17179869184/(1024**3)"
   ]
  },
  {
   "cell_type": "code",
   "execution_count": 4,
   "id": "aef09268-e6a6-4142-94e0-f116d57cb325",
   "metadata": {},
   "outputs": [],
   "source": [
    "MAX_MEMORY = '4g'\n",
    "MAX_MEMORY_OVERHEAD = '512m'\n",
    "MAX_DRIVER_MEMORY = '1g'"
   ]
  },
  {
   "cell_type": "markdown",
   "id": "bc345030-6654-4ff4-9115-c5dfbdcca3b9",
   "metadata": {},
   "source": [
    "### Setup Config"
   ]
  },
  {
   "cell_type": "code",
   "execution_count": 12,
   "id": "9c5b700e-1e2c-4f40-91fd-10827aa465ff",
   "metadata": {},
   "outputs": [],
   "source": [
    "conf = pyspark.SparkConf().setMaster(\"local[2]\") \\\n",
    "        .set('spark.executor.memory', MAX_MEMORY) \\\n",
    "        .set('spark.executor.memoryOverhead', MAX_MEMORY_OVERHEAD) \\\n",
    "        .set('spark.driver.memory', MAX_DRIVER_MEMORY) \\\n",
    "        .set(\"spark.driver.extraJavaOptions\", \"-XX:ReservedCodeCacheSize=256m\") # code cache stores compiled code, and it can be full some times\n",
    "        # .set('spark.executor.heartbeatInterval', 10000) \\\n",
    "        # .set('spark.network.timeout', 10000) \\\n",
    "        # .set('spark.core.connection.ack.wait.timeout', '3600') \\"
   ]
  },
  {
   "cell_type": "code",
   "execution_count": 13,
   "id": "8575d116-6ec1-4d6c-81b5-2f81f4ce016d",
   "metadata": {},
   "outputs": [],
   "source": [
    "from pyspark.sql import SparkSession"
   ]
  },
  {
   "cell_type": "markdown",
   "id": "dff6a179-7fe5-493d-8f63-8b14ae9e4f4c",
   "metadata": {},
   "source": [
    "### Initialize Spark"
   ]
  },
  {
   "cell_type": "code",
   "execution_count": 14,
   "id": "178dd2f9-3368-49f8-990b-e211d8eda5cf",
   "metadata": {},
   "outputs": [],
   "source": [
    "def init_spark():\n",
    "    spark = SparkSession \\\n",
    "        .builder \\\n",
    "        .appName(\"StarWars - Data Quality Project\") \\\n",
    "        .config(conf=conf) \\\n",
    "        .getOrCreate()\n",
    "    return spark"
   ]
  },
  {
   "cell_type": "code",
   "execution_count": 15,
   "id": "245d7c6b-eb64-4397-9791-9ca6340aa96e",
   "metadata": {},
   "outputs": [],
   "source": [
    "spark = init_spark()"
   ]
  },
  {
   "cell_type": "code",
   "execution_count": 16,
   "id": "c6f17505-20c5-4b72-9bef-9fb2258a00fe",
   "metadata": {},
   "outputs": [],
   "source": [
    "df = spark.read.csv('star_wars_reviews.csv',header=True)"
   ]
  },
  {
   "cell_type": "code",
   "execution_count": 19,
   "id": "9413a6e9-128d-4e7f-92bf-057f6a45732e",
   "metadata": {},
   "outputs": [
    {
     "name": "stdout",
     "output_type": "stream",
     "text": [
      "+---------+----------------+--------------+--------------------+--------------------+-----------------+----------+------------+\n",
      "|review_id|       fav_heroe|   fav_villain|            fav_film|      fav_soundtrack|    fav_spaceship|fav_planet|   fav_robot|\n",
      "+---------+----------------+--------------+--------------------+--------------------+-----------------+----------+------------+\n",
      "|        0|Anakin Skywalker|    Darth Maul|Episode IV - A Ne...|   Accross the Stars|Naboo Starfighter|  Tatooine|       R2-D2|\n",
      "|        1|Anakin Skywalker|    Darth Maul|Episode IV - A Ne...|     The Throne Room|Naboo Starfighter|  Tatooine|Battle Droid|\n",
      "|        2|  Luke Skywalker|   Count Dooku|Episode V - The E...|Star Wars (Main T...|Millennium Falcon|     Endor|       R2-D2|\n",
      "|        3|Anakin Skywalker|Wilhuff Tarkin|Episode VI - Retu...|     The Throne Room|Millennium Falcon|  Tatooine|       R2-D2|\n",
      "|        4|            Yoda|     Palpatine|Episode IV - A Ne...|Star Wars (Main T...|Millennium Falcon|     Naboo|       C-3PO|\n",
      "+---------+----------------+--------------+--------------------+--------------------+-----------------+----------+------------+\n",
      "only showing top 5 rows\n",
      "\n"
     ]
    }
   ],
   "source": [
    "df.show(5)"
   ]
  },
  {
   "cell_type": "markdown",
   "id": "5637a5ef-dba3-4643-9c06-fc1546706c09",
   "metadata": {},
   "source": [
    "### Dataset Overview"
   ]
  },
  {
   "cell_type": "code",
   "execution_count": 18,
   "id": "265262e8-0b6c-4554-98d5-d25874bb47d8",
   "metadata": {},
   "outputs": [
    {
     "data": {
      "text/plain": [
       "DataFrame[summary: string, review_id: string, fav_heroe: string, fav_villain: string, fav_film: string, fav_soundtrack: string, fav_spaceship: string, fav_planet: string, fav_robot: string]"
      ]
     },
     "execution_count": 18,
     "metadata": {},
     "output_type": "execute_result"
    }
   ],
   "source": [
    "df.describe()"
   ]
  },
  {
   "cell_type": "code",
   "execution_count": 20,
   "id": "74c928b0-d01e-4d85-98bd-a74e6d8ed5dc",
   "metadata": {},
   "outputs": [
    {
     "data": {
      "text/plain": [
       "1"
      ]
     },
     "execution_count": 20,
     "metadata": {},
     "output_type": "execute_result"
    }
   ],
   "source": [
    "df.rdd.getNumPartitions()\n"
   ]
  },
  {
   "cell_type": "code",
   "execution_count": 21,
   "id": "fbda4ea7-5493-43f1-b10c-32dd3ff14b9b",
   "metadata": {},
   "outputs": [],
   "source": [
    "df = df.repartition(4)"
   ]
  },
  {
   "cell_type": "code",
   "execution_count": 22,
   "id": "30c293cb-2f19-42f8-8c26-39175ca822b9",
   "metadata": {},
   "outputs": [
    {
     "name": "stdout",
     "output_type": "stream",
     "text": [
      "CodeCache: size=131072Kb used=28157Kb max_used=28159Kb free=102914Kb\n",
      " bounds [0x000000010a1f8000, 0x000000010bda8000, 0x00000001121f8000]\n",
      " total_blobs=11111 nmethods=10131 adapters=892\n",
      " compilation: disabled (not enough contiguous free space left)\n"
     ]
    },
    {
     "name": "stderr",
     "output_type": "stream",
     "text": [
      "Java HotSpot(TM) 64-Bit Server VM warning: CodeCache is full. Compiler has been disabled.\n",
      "Java HotSpot(TM) 64-Bit Server VM warning: Try increasing the code cache size using -XX:ReservedCodeCacheSize=\n"
     ]
    },
    {
     "data": {
      "text/plain": [
       "4"
      ]
     },
     "execution_count": 22,
     "metadata": {},
     "output_type": "execute_result"
    }
   ],
   "source": [
    "df.rdd.getNumPartitions()"
   ]
  },
  {
   "cell_type": "code",
   "execution_count": 25,
   "id": "c6bb0d8f-c8d6-4a91-afc9-0663ece27689",
   "metadata": {},
   "outputs": [
    {
     "name": "stderr",
     "output_type": "stream",
     "text": [
      "Partition Starts ------------\n",
      "Row(review_id='13475', fav_heroe='Obi-Wan Kenobi', fav_villain='Darth Maul', fav_film='Episode VI - Return of the Jedi', fav_soundtrack='The Throne Room', fav_spaceship='Millennium Falcon', fav_planet='Dagobah', fav_robot='C-3PO')\n",
      "Row(review_id='35284', fav_heroe='Anakin Skywalker', fav_villain='Count Dooku', fav_film='Episode V - The Empire Strikes Back', fav_soundtrack='Star Wars (Main Theme)', fav_spaceship='Millennium Falcon', fav_planet='Endor', fav_robot='R2-D2')\n",
      "Row(review_id='11702', fav_heroe='Luke Skywalker', fav_villain='Wilhuff Tarkin', fav_film='Episode II - Attack of the Clones', fav_soundtrack='Star Wars (Main Theme)', fav_spaceship='Naboo Starfighter', fav_planet='Naboo', fav_robot='C-3PO')\n",
      "Row(review_id='18327', fav_heroe='Chewbacca', fav_villain='Count Dooku', fav_film='Episode IV - A New Hope', fav_soundtrack='Star Wars (Main Theme)', fav_spaceship='Naboo Starfighter', fav_planet='Tatooine', fav_robot='R2-D2')\n",
      "Partition Starts ------------\n",
      "Row(review_id='19100', fav_heroe='Yoda', fav_villain='Palpatine', fav_film='Episode V - The Empire Strikes Back', fav_soundtrack='Star Wars (Main Theme)', fav_spaceship='Millennium Falcon', fav_planet='Tatooine', fav_robot='R2-D2')\n",
      "Row(review_id='28930', fav_heroe='Anakin Skywalker', fav_villain='Darth Vader', fav_film='Episode VI - Return of the Jedi', fav_soundtrack='Imperial March', fav_spaceship='Millennium Falcon', fav_planet='Endor', fav_robot='R2-D2')\n",
      "Row(review_id='25133', fav_heroe='Yoda', fav_villain='Wilhuff Tarkin', fav_film='Episode V - The Empire Strikes Back', fav_soundtrack='Star Wars (Main Theme)', fav_spaceship='Naboo Starfighter', fav_planet='Tatooine', fav_robot='C-3PO')\n",
      "Row(review_id='17821', fav_heroe='Han Solo', fav_villain='Wilhuff Tarkin', fav_film='Episode VI - Return of the Jedi', fav_soundtrack='Star Wars (Main Theme)', fav_spaceship='Millennium Falcon', fav_planet='Tatooine', fav_robot='R2-D2')\n",
      "Partition Starts ------------\n",
      "Row(review_id='14704', fav_heroe='Anakin Skywalker', fav_villain='General Grievous', fav_film='Episode V - The Empire Strikes Back', fav_soundtrack='Star Wars (Main Theme)', fav_spaceship='Naboo Starfighter', fav_planet='Naboo', fav_robot='R2-D2')\n",
      "Row(review_id='13875', fav_heroe='Obi-Wan Kenobi', fav_villain='Darth Vader', fav_film='Episode IV - A New Hope', fav_soundtrack='Imperial March', fav_spaceship='Millennium Falcon', fav_planet='Endor', fav_robot='C-3PO')\n",
      "Row(review_id='12560', fav_heroe='Han Solo', fav_villain='Count Dooku', fav_film='Episode VI - Return of the Jedi', fav_soundtrack='Imperial March', fav_spaceship='Millennium Falcon', fav_planet='Tatooine', fav_robot='C-3PO')\n",
      "Row(review_id='18722', fav_heroe='Yoda', fav_villain='General Grievous', fav_film='Episode I - The Phantom Menace', fav_soundtrack='Star Wars (Main Theme)', fav_spaceship='Millennium Falcon', fav_planet='Tatooine', fav_robot='C-3PO')\n",
      "Partition Starts ------------\n",
      "Row(review_id='25048', fav_heroe='Han Solo', fav_villain='Wilhuff Tarkin', fav_film='Episode IV - A New Hope', fav_soundtrack='Star Wars (Main Theme)', fav_spaceship='Millennium Falcon', fav_planet='Tatooine', fav_robot='R2-D2')\n",
      "Row(review_id='19517', fav_heroe='Obi-Wan Kenobi', fav_villain='Darth Maul', fav_film='Episode VI - Return of the Jedi', fav_soundtrack='Imperial March', fav_spaceship='Millennium Falcon', fav_planet='Alderaan', fav_robot='R2-D2')\n",
      "Row(review_id='26133', fav_heroe='Obi-Wan Kenobi', fav_villain='Palpatine', fav_film='Episode III - Revenge of the Sith', fav_soundtrack='Star Wars (Main Theme)', fav_spaceship='Millennium Falcon', fav_planet='Tatooine', fav_robot='Battle Droid')\n",
      "Row(review_id='14389', fav_heroe='Leia', fav_villain='Palpatine', fav_film='Episode IV - A New Hope', fav_soundtrack='Anakin vs. Obi-Wan', fav_spaceship='Millennium Falcon', fav_planet='Naboo', fav_robot='R2-D2')\n"
     ]
    }
   ],
   "source": [
    "def print_partition_rows(partition):\n",
    "    print(\"Partition Starts ------------\")\n",
    "    c = 0\n",
    "    for row in partition:\n",
    "        c+=1\n",
    "        print(row)\n",
    "        if c==4:\n",
    "            break\n",
    "\n",
    "df.foreachPartition(print_partition_rows)\n"
   ]
  },
  {
   "cell_type": "code",
   "execution_count": 26,
   "id": "90b4db8f-ff32-4306-a53e-c442845ba260",
   "metadata": {},
   "outputs": [
    {
     "name": "stdout",
     "output_type": "stream",
     "text": [
      "Time taken: 0.5376410484313965\n"
     ]
    }
   ],
   "source": [
    "import time\n",
    "\n",
    "start = time.time()\n",
    "df.groupBy(\"fav_heroe\").count().collect()\n",
    "print(\"Time taken:\", time.time() - start)\n"
   ]
  },
  {
   "cell_type": "code",
   "execution_count": 27,
   "id": "c17755b5-074b-4010-8c49-03af120a84a8",
   "metadata": {},
   "outputs": [],
   "source": [
    "df = df.coalesce(1)"
   ]
  },
  {
   "cell_type": "code",
   "execution_count": 28,
   "id": "0065ac72-c40c-4653-9f70-eb8c6251a74e",
   "metadata": {},
   "outputs": [
    {
     "name": "stdout",
     "output_type": "stream",
     "text": [
      "Time taken: 0.18422389030456543\n"
     ]
    }
   ],
   "source": [
    "import time\n",
    "\n",
    "start = time.time()\n",
    "df.groupBy(\"fav_heroe\").count().collect()\n",
    "print(\"Time taken:\", time.time() - start)\n"
   ]
  },
  {
   "cell_type": "code",
   "execution_count": 29,
   "id": "1a43af8d-9d5b-4a59-9d0a-a5f0642c4071",
   "metadata": {},
   "outputs": [],
   "source": [
    "df = df.repartition(4)"
   ]
  },
  {
   "cell_type": "code",
   "execution_count": 30,
   "id": "8c9fe40c-e239-45b1-b6d7-cfbed6f48a2d",
   "metadata": {},
   "outputs": [
    {
     "name": "stdout",
     "output_type": "stream",
     "text": [
      "Time taken: 0.17882966995239258\n"
     ]
    }
   ],
   "source": [
    "import time\n",
    "\n",
    "start = time.time()\n",
    "df.groupBy(\"fav_heroe\").count().collect()\n",
    "print(\"Time taken:\", time.time() - start)\n"
   ]
  },
  {
   "cell_type": "code",
   "execution_count": 31,
   "id": "937c5099-d3b9-43ce-ba66-06a7c80c81e0",
   "metadata": {},
   "outputs": [
    {
     "data": {
      "text/plain": [
       "36927"
      ]
     },
     "execution_count": 31,
     "metadata": {},
     "output_type": "execute_result"
    }
   ],
   "source": [
    "df.count()"
   ]
  },
  {
   "cell_type": "code",
   "execution_count": null,
   "id": "e9320943-2f5c-4b05-95a7-bbf83096bbb1",
   "metadata": {},
   "outputs": [],
   "source": []
  }
 ],
 "metadata": {
  "kernelspec": {
   "display_name": "pyspark-env",
   "language": "python",
   "name": "pyspark-env"
  },
  "language_info": {
   "codemirror_mode": {
    "name": "ipython",
    "version": 3
   },
   "file_extension": ".py",
   "mimetype": "text/x-python",
   "name": "python",
   "nbconvert_exporter": "python",
   "pygments_lexer": "ipython3",
   "version": "3.13.0"
  }
 },
 "nbformat": 4,
 "nbformat_minor": 5
}
