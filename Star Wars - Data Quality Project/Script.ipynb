{
 "cells": [
  {
   "cell_type": "markdown",
   "id": "3dc348b1-a123-48ab-b7e4-72feb0e750fb",
   "metadata": {},
   "source": [
    "# Star Wars - Data Quality Project"
   ]
  },
  {
   "cell_type": "code",
   "execution_count": 2,
   "id": "1cc7de43-1f0e-4a9d-bcf0-2b9016e234be",
   "metadata": {},
   "outputs": [
    {
     "name": "stdout",
     "output_type": "stream",
     "text": [
      "Requirement already satisfied: pyspark in /Users/gowthamhanumanthu/Documents/MSS/12. Big Data/Mastering-Data-Quality/venv/lib/python3.13/site-packages (3.5.5)\n",
      "Requirement already satisfied: py4j==0.10.9.7 in /Users/gowthamhanumanthu/Documents/MSS/12. Big Data/Mastering-Data-Quality/venv/lib/python3.13/site-packages (from pyspark) (0.10.9.7)\n",
      "\n",
      "\u001b[1m[\u001b[0m\u001b[34;49mnotice\u001b[0m\u001b[1;39;49m]\u001b[0m\u001b[39;49m A new release of pip is available: \u001b[0m\u001b[31;49m25.0.1\u001b[0m\u001b[39;49m -> \u001b[0m\u001b[32;49m25.1.1\u001b[0m\n",
      "\u001b[1m[\u001b[0m\u001b[34;49mnotice\u001b[0m\u001b[1;39;49m]\u001b[0m\u001b[39;49m To update, run: \u001b[0m\u001b[32;49mpip install --upgrade pip\u001b[0m\n"
     ]
    }
   ],
   "source": [
    "!pip install pyspark;\n"
   ]
  },
  {
   "cell_type": "code",
   "execution_count": 3,
   "id": "fd3a6249-b7bd-4f52-af8c-9e343b767772",
   "metadata": {},
   "outputs": [],
   "source": [
    "import pyspark\n",
    "from pyspark.sql import functions as F\n"
   ]
  },
  {
   "cell_type": "markdown",
   "id": "32e46d8f-e597-4830-8169-884a00807362",
   "metadata": {},
   "source": [
    "### Know your machine resources"
   ]
  },
  {
   "cell_type": "code",
   "execution_count": 4,
   "id": "31ebbdc4-db49-4f96-ac1d-c04ad125fa56",
   "metadata": {},
   "outputs": [
    {
     "name": "stdout",
     "output_type": "stream",
     "text": [
      "8\n",
      "17179869184\n"
     ]
    }
   ],
   "source": [
    "# CPU Cores\n",
    "!sysctl -n hw.logicalcpu\n",
    "\n",
    "# Memory in Bytes\n",
    "!sysctl -n hw.memsize"
   ]
  },
  {
   "cell_type": "code",
   "execution_count": 5,
   "id": "47a2945f-3cd0-4e84-ab7e-2d1a594d58ea",
   "metadata": {},
   "outputs": [
    {
     "data": {
      "text/plain": [
       "16.0"
      ]
     },
     "execution_count": 5,
     "metadata": {},
     "output_type": "execute_result"
    }
   ],
   "source": [
    "# Memory in GB\n",
    "17179869184/(1024**3)"
   ]
  },
  {
   "cell_type": "code",
   "execution_count": 6,
   "id": "aef09268-e6a6-4142-94e0-f116d57cb325",
   "metadata": {},
   "outputs": [],
   "source": [
    "MAX_MEMORY = '4g'\n",
    "MAX_MEMORY_OVERHEAD = '512m'\n",
    "MAX_DRIVER_MEMORY = '1g'"
   ]
  },
  {
   "cell_type": "markdown",
   "id": "bc345030-6654-4ff4-9115-c5dfbdcca3b9",
   "metadata": {},
   "source": [
    "### Setup Config"
   ]
  },
  {
   "cell_type": "code",
   "execution_count": 7,
   "id": "9c5b700e-1e2c-4f40-91fd-10827aa465ff",
   "metadata": {},
   "outputs": [],
   "source": [
    "conf = pyspark.SparkConf().setMaster(\"local[2]\") \\\n",
    "        .set('spark.executor.memory', MAX_MEMORY) \\\n",
    "        .set('spark.executor.memoryOverhead', MAX_MEMORY_OVERHEAD) \\\n",
    "        .set('spark.driver.memory', MAX_DRIVER_MEMORY) \\\n",
    "        .set(\"spark.driver.extraJavaOptions\", \"-XX:ReservedCodeCacheSize=256m\") # code cache stores compiled code, and it can be full some times\n",
    "        # .set('spark.executor.heartbeatInterval', 10000) \\\n",
    "        # .set('spark.network.timeout', 10000) \\\n",
    "        # .set('spark.core.connection.ack.wait.timeout', '3600') \\"
   ]
  },
  {
   "cell_type": "code",
   "execution_count": 8,
   "id": "8575d116-6ec1-4d6c-81b5-2f81f4ce016d",
   "metadata": {},
   "outputs": [],
   "source": [
    "from pyspark.sql import SparkSession"
   ]
  },
  {
   "cell_type": "markdown",
   "id": "dff6a179-7fe5-493d-8f63-8b14ae9e4f4c",
   "metadata": {},
   "source": [
    "### Initialize Spark"
   ]
  },
  {
   "cell_type": "code",
   "execution_count": 9,
   "id": "178dd2f9-3368-49f8-990b-e211d8eda5cf",
   "metadata": {},
   "outputs": [],
   "source": [
    "def init_spark():\n",
    "    spark = SparkSession \\\n",
    "        .builder \\\n",
    "        .appName(\"StarWars - Data Quality Project\") \\\n",
    "        .config(conf=conf) \\\n",
    "        .getOrCreate()\n",
    "    return spark"
   ]
  },
  {
   "cell_type": "code",
   "execution_count": 10,
   "id": "245d7c6b-eb64-4397-9791-9ca6340aa96e",
   "metadata": {},
   "outputs": [
    {
     "name": "stderr",
     "output_type": "stream",
     "text": [
      "25/05/08 18:19:12 WARN Utils: Your hostname, Gowthams-MacBook-Air.local resolves to a loopback address: 127.0.0.1; using 192.168.4.246 instead (on interface en0)\n",
      "25/05/08 18:19:12 WARN Utils: Set SPARK_LOCAL_IP if you need to bind to another address\n",
      "Setting default log level to \"WARN\".\n",
      "To adjust logging level use sc.setLogLevel(newLevel). For SparkR, use setLogLevel(newLevel).\n",
      "25/05/08 18:19:12 WARN NativeCodeLoader: Unable to load native-hadoop library for your platform... using builtin-java classes where applicable\n"
     ]
    }
   ],
   "source": [
    "spark = init_spark()"
   ]
  },
  {
   "cell_type": "markdown",
   "id": "5637a5ef-dba3-4643-9c06-fc1546706c09",
   "metadata": {},
   "source": [
    "## Data Profiling\n",
    "Understand the structure, missing values, distinct favorites, anomalies."
   ]
  },
  {
   "cell_type": "code",
   "execution_count": 11,
   "id": "c6f17505-20c5-4b72-9bef-9fb2258a00fe",
   "metadata": {},
   "outputs": [],
   "source": [
    "df = spark.read.csv('star_wars_reviews.csv',header=True)"
   ]
  },
  {
   "cell_type": "code",
   "execution_count": 12,
   "id": "9413a6e9-128d-4e7f-92bf-057f6a45732e",
   "metadata": {},
   "outputs": [
    {
     "name": "stdout",
     "output_type": "stream",
     "text": [
      "+---------+----------------+--------------+--------------------+--------------------+-----------------+----------+------------+\n",
      "|review_id|       fav_heroe|   fav_villain|            fav_film|      fav_soundtrack|    fav_spaceship|fav_planet|   fav_robot|\n",
      "+---------+----------------+--------------+--------------------+--------------------+-----------------+----------+------------+\n",
      "|        0|Anakin Skywalker|    Darth Maul|Episode IV - A Ne...|   Accross the Stars|Naboo Starfighter|  Tatooine|       R2-D2|\n",
      "|        1|Anakin Skywalker|    Darth Maul|Episode IV - A Ne...|     The Throne Room|Naboo Starfighter|  Tatooine|Battle Droid|\n",
      "|        2|  Luke Skywalker|   Count Dooku|Episode V - The E...|Star Wars (Main T...|Millennium Falcon|     Endor|       R2-D2|\n",
      "|        3|Anakin Skywalker|Wilhuff Tarkin|Episode VI - Retu...|     The Throne Room|Millennium Falcon|  Tatooine|       R2-D2|\n",
      "|        4|            Yoda|     Palpatine|Episode IV - A Ne...|Star Wars (Main T...|Millennium Falcon|     Naboo|       C-3PO|\n",
      "+---------+----------------+--------------+--------------------+--------------------+-----------------+----------+------------+\n",
      "only showing top 5 rows\n",
      "\n"
     ]
    }
   ],
   "source": [
    "df.show(5)"
   ]
  },
  {
   "cell_type": "markdown",
   "id": "86fe92df-cece-4627-8c3d-4107059fe642",
   "metadata": {},
   "source": [
    "### Structure"
   ]
  },
  {
   "cell_type": "code",
   "execution_count": 13,
   "id": "265262e8-0b6c-4554-98d5-d25874bb47d8",
   "metadata": {},
   "outputs": [
    {
     "name": "stdout",
     "output_type": "stream",
     "text": [
      "root\n",
      " |-- review_id: string (nullable = true)\n",
      " |-- fav_heroe: string (nullable = true)\n",
      " |-- fav_villain: string (nullable = true)\n",
      " |-- fav_film: string (nullable = true)\n",
      " |-- fav_soundtrack: string (nullable = true)\n",
      " |-- fav_spaceship: string (nullable = true)\n",
      " |-- fav_planet: string (nullable = true)\n",
      " |-- fav_robot: string (nullable = true)\n",
      "\n"
     ]
    }
   ],
   "source": [
    "df.printSchema()"
   ]
  },
  {
   "cell_type": "markdown",
   "id": "134dceae-28f5-4287-8e84-68220e67fdbf",
   "metadata": {},
   "source": [
    "### Basic Statistics"
   ]
  },
  {
   "cell_type": "code",
   "execution_count": 14,
   "id": "7ca74944-9ece-4b1c-bc50-45b79b38c51c",
   "metadata": {},
   "outputs": [
    {
     "name": "stderr",
     "output_type": "stream",
     "text": [
      "25/05/08 18:19:22 WARN SparkStringUtils: Truncated the string representation of a plan since it was too large. This behavior can be adjusted by setting 'spark.sql.debug.maxToStringFields'.\n",
      "[Stage 2:>                                                          (0 + 1) / 1]"
     ]
    },
    {
     "name": "stdout",
     "output_type": "stream",
     "text": [
      "+-------+------------------+----------------+--------------+--------------------+-----------------+-------------+----------+------------+\n",
      "|summary|         review_id|       fav_heroe|   fav_villain|            fav_film|   fav_soundtrack|fav_spaceship|fav_planet|   fav_robot|\n",
      "+-------+------------------+----------------+--------------+--------------------+-----------------+-------------+----------+------------+\n",
      "|  count|             36927|           36927|         36927|               36927|            36927|        36927|     36927|       36927|\n",
      "|   mean|           18463.0|            NULL|          NULL|                NULL|             NULL|         NULL|      NULL|        NULL|\n",
      "| stddev|10660.051031772784|            NULL|          NULL|                NULL|             NULL|         NULL|      NULL|        NULL|\n",
      "|    min|                 0|Anakin Skywalker|   Count Dooku|Episode I - The P...|Accross the Stars|   Death Star|  Alderaan|Battle Droid|\n",
      "|    max|              9999|            Yoda|Wilhuff Tarkin|Episode VI - Retu...|  The Throne Room|  TIE Fighter|  Tatooine|       R2-D2|\n",
      "+-------+------------------+----------------+--------------+--------------------+-----------------+-------------+----------+------------+\n",
      "\n"
     ]
    },
    {
     "name": "stderr",
     "output_type": "stream",
     "text": [
      "                                                                                "
     ]
    }
   ],
   "source": [
    "df.describe().show()"
   ]
  },
  {
   "cell_type": "markdown",
   "id": "27ff17f3-cc2e-489f-b238-bbeb414f63cf",
   "metadata": {},
   "source": [
    "### Null Counts"
   ]
  },
  {
   "cell_type": "code",
   "execution_count": 15,
   "id": "2cb78af4-593c-4324-aab4-2b12fb034029",
   "metadata": {},
   "outputs": [
    {
     "name": "stdout",
     "output_type": "stream",
     "text": [
      "+---------+---------+-----------+--------+--------------+-------------+----------+---------+\n",
      "|review_id|fav_heroe|fav_villain|fav_film|fav_soundtrack|fav_spaceship|fav_planet|fav_robot|\n",
      "+---------+---------+-----------+--------+--------------+-------------+----------+---------+\n",
      "|        0|        0|          0|       0|             0|            0|         0|        0|\n",
      "+---------+---------+-----------+--------+--------------+-------------+----------+---------+\n",
      "\n"
     ]
    }
   ],
   "source": [
    "df.select([F.count(F.when(F.col(column).isNull(), column)).alias(column) for column in df.columns]).show()"
   ]
  },
  {
   "cell_type": "markdown",
   "id": "d3d51ff3-5394-40ca-9ebe-7bded83b94ba",
   "metadata": {},
   "source": [
    "### Distinct Values in Fav Columns\n"
   ]
  },
  {
   "cell_type": "code",
   "execution_count": 16,
   "id": "84a145a0-6283-4d50-ab73-4fad0ce67f02",
   "metadata": {},
   "outputs": [
    {
     "name": "stdout",
     "output_type": "stream",
     "text": [
      "+----------------+\n",
      "|       fav_heroe|\n",
      "+----------------+\n",
      "|        Han Solo|\n",
      "|            Leia|\n",
      "|    Qui-Gon Jinn|\n",
      "|   Jar Jar Binks|\n",
      "|            Yoda|\n",
      "|  Luke Skywalker|\n",
      "|  Obi-Wan Kenobi|\n",
      "|Anakin Skywalker|\n",
      "|       Chewbacca|\n",
      "+----------------+\n",
      "\n",
      "+----------------+\n",
      "|     fav_villain|\n",
      "+----------------+\n",
      "|  Wilhuff Tarkin|\n",
      "|General Grievous|\n",
      "|       Palpatine|\n",
      "|     Count Dooku|\n",
      "|      Darth Maul|\n",
      "|     Darth Vader|\n",
      "+----------------+\n",
      "\n",
      "+--------------------+\n",
      "|            fav_film|\n",
      "+--------------------+\n",
      "|Episode I - The P...|\n",
      "|Episode III - Rev...|\n",
      "|Episode VI - Retu...|\n",
      "|Episode II - Atta...|\n",
      "|Episode IV - A Ne...|\n",
      "|Episode V - The E...|\n",
      "+--------------------+\n",
      "\n",
      "+--------------------+\n",
      "|      fav_soundtrack|\n",
      "+--------------------+\n",
      "|Star Wars (Main T...|\n",
      "|      Imperial March|\n",
      "|     The Throne Room|\n",
      "|   Accross the Stars|\n",
      "|  Anakin vs. Obi-Wan|\n",
      "+--------------------+\n",
      "\n",
      "+-----------------+\n",
      "|    fav_spaceship|\n",
      "+-----------------+\n",
      "|       Death Star|\n",
      "|Millennium Falcon|\n",
      "|      TIE Fighter|\n",
      "|Naboo Starfighter|\n",
      "+-----------------+\n",
      "\n",
      "+----------+\n",
      "|fav_planet|\n",
      "+----------+\n",
      "|     Endor|\n",
      "|   Dagobah|\n",
      "|  Alderaan|\n",
      "|  Tatooine|\n",
      "|     Naboo|\n",
      "+----------+\n",
      "\n",
      "+------------+\n",
      "|   fav_robot|\n",
      "+------------+\n",
      "|       C-3PO|\n",
      "|    Droideka|\n",
      "|Battle Droid|\n",
      "|       R2-D2|\n",
      "+------------+\n",
      "\n"
     ]
    }
   ],
   "source": [
    "for col_name in ['fav_heroe',\n",
    " 'fav_villain',\n",
    " 'fav_film',\n",
    " 'fav_soundtrack',\n",
    " 'fav_spaceship',\n",
    " 'fav_planet',\n",
    " 'fav_robot']:\n",
    "    df.select(col_name).distinct().show()"
   ]
  },
  {
   "cell_type": "markdown",
   "id": "3b86d56e-f113-4cde-a421-80e126772061",
   "metadata": {},
   "source": [
    "### Count distinct values/Cardinality in all columns"
   ]
  },
  {
   "cell_type": "code",
   "execution_count": 17,
   "id": "84886539-545a-4463-8eb0-2f8445cc7f7b",
   "metadata": {
    "scrolled": true
   },
   "outputs": [
    {
     "name": "stdout",
     "output_type": "stream",
     "text": [
      "CodeCache: size=262144Kb used=35591Kb max_used=35822Kb free=226552Kb\n",
      " bounds [0x000000010a1f8000, 0x000000010c588000, 0x000000011a1f8000]\n",
      " total_blobs=12045 nmethods=11097 adapters=860\n",
      " compilation: disabled (not enough contiguous free space left)\n",
      "+---------+---------+-----------+--------+--------------+-------------+----------+---------+\n",
      "|review_id|fav_heroe|fav_villain|fav_film|fav_soundtrack|fav_spaceship|fav_planet|fav_robot|\n",
      "+---------+---------+-----------+--------+--------------+-------------+----------+---------+\n",
      "|    36927|        9|          6|       6|             5|            4|         5|        4|\n",
      "+---------+---------+-----------+--------+--------------+-------------+----------+---------+\n",
      "\n"
     ]
    },
    {
     "name": "stderr",
     "output_type": "stream",
     "text": [
      "Java HotSpot(TM) 64-Bit Server VM warning: CodeCache is full. Compiler has been disabled.\n",
      "Java HotSpot(TM) 64-Bit Server VM warning: Try increasing the code cache size using -XX:ReservedCodeCacheSize=\n"
     ]
    }
   ],
   "source": [
    "df.agg(*[F.countDistinct(column).alias(column) for column in df.columns]).show()"
   ]
  },
  {
   "cell_type": "markdown",
   "id": "9ac73c41-d912-46d7-a48b-fa23c4be88c1",
   "metadata": {},
   "source": [
    "### Detect Data Skewness \n",
    "Some columns might have more repeated values which cause Data skewness when joining with the column_key"
   ]
  },
  {
   "cell_type": "code",
   "execution_count": 18,
   "id": "712bd0d1-545f-4614-8507-07004fb82b45",
   "metadata": {},
   "outputs": [
    {
     "name": "stdout",
     "output_type": "stream",
     "text": [
      "+----------------+-----+------------------+\n",
      "|fav_heroe       |count|skew_percentile   |\n",
      "+----------------+-----+------------------+\n",
      "|Obi-Wan Kenobi  |6324 |17.125680396457877|\n",
      "|Han Solo        |6028 |16.32409889782544 |\n",
      "|Anakin Skywalker|5641 |15.276085249275598|\n",
      "|Leia            |5234 |14.173910688655997|\n",
      "|Yoda            |4385 |11.874779971294716|\n",
      "|Luke Skywalker  |3679 |9.962899775232215 |\n",
      "|Chewbacca       |2473 |6.696996777425731 |\n",
      "|Qui-Gon Jinn    |1630 |4.414114333685379 |\n",
      "|Jar Jar Binks   |1533 |4.1514339101470465|\n",
      "+----------------+-----+------------------+\n",
      "\n",
      "+----------------+-----+------------------+\n",
      "|fav_villain     |count|skew_percentile   |\n",
      "+----------------+-----+------------------+\n",
      "|Darth Vader     |9165 |24.81923795596718 |\n",
      "|Palpatine       |7469 |20.226392612451594|\n",
      "|Darth Maul      |6703 |18.152029680179815|\n",
      "|General Grievous|5506 |14.910499092804722|\n",
      "|Count Dooku     |4727 |12.800931567687602|\n",
      "|Wilhuff Tarkin  |3357 |9.090909090909092 |\n",
      "+----------------+-----+------------------+\n",
      "\n",
      "+-----------------------------------+-----+------------------+\n",
      "|fav_film                           |count|skew_percentile   |\n",
      "+-----------------------------------+-----+------------------+\n",
      "|Episode V - The Empire Strikes Back|9886 |26.771738836081997|\n",
      "|Episode IV - A New Hope            |8636 |23.386681831722044|\n",
      "|Episode VI - Return of the Jedi    |8564 |23.19170254827091 |\n",
      "|Episode I - The Phantom Menace     |3990 |10.805101957916971|\n",
      "|Episode II - Attack of the Clones  |3313 |8.971755084355621 |\n",
      "|Episode III - Revenge of the Sith  |2538 |6.873019741652449 |\n",
      "+-----------------------------------+-----+------------------+\n",
      "\n",
      "+----------------------+-----+------------------+\n",
      "|fav_soundtrack        |count|skew_percentile   |\n",
      "+----------------------+-----+------------------+\n",
      "|Star Wars (Main Theme)|16172|43.79451349960733 |\n",
      "|Imperial March        |14518|39.31540607143824 |\n",
      "|The Throne Room       |4415 |11.956021339399356|\n",
      "|Anakin vs. Obi-Wan    |1069 |2.894900750128632 |\n",
      "|Accross the Stars     |753  |2.039158339426436 |\n",
      "+----------------------+-----+------------------+\n",
      "\n",
      "+-----------------+-----+------------------+\n",
      "|fav_spaceship    |count|skew_percentile   |\n",
      "+-----------------+-----+------------------+\n",
      "|Millennium Falcon|23679|64.12381184499148 |\n",
      "|Naboo Starfighter|7791 |21.098383296774717|\n",
      "|TIE Fighter      |4739 |12.833428114929454|\n",
      "|Death Star       |718  |1.9443767433043573|\n",
      "+-----------------+-----+------------------+\n",
      "\n",
      "+----------+-----+------------------+\n",
      "|fav_planet|count|skew_percentile   |\n",
      "+----------+-----+------------------+\n",
      "|Naboo     |13823|37.433314377014106|\n",
      "|Tatooine  |11755|31.833076069001002|\n",
      "|Endor     |5305 |14.366181926503643|\n",
      "|Dagobah   |4150 |11.238389254475045|\n",
      "|Alderaan  |1894 |5.1290383730062015|\n",
      "+----------+-----+------------------+\n",
      "\n",
      "+------------+-----+------------------+\n",
      "|fav_robot   |count|skew_percentile   |\n",
      "+------------+-----+------------------+\n",
      "|R2-D2       |17872|48.39819102553687 |\n",
      "|C-3PO       |13949|37.77452812305359 |\n",
      "|Battle Droid|3668 |9.933111273593848 |\n",
      "|Droideka    |1438 |3.8941695778156906|\n",
      "+------------+-----+------------------+\n",
      "\n"
     ]
    }
   ],
   "source": [
    "total_rows = df.count()\n",
    "for col_name in ['fav_heroe',\n",
    " 'fav_villain',\n",
    " 'fav_film',\n",
    " 'fav_soundtrack',\n",
    " 'fav_spaceship',\n",
    " 'fav_planet',\n",
    " 'fav_robot']:\n",
    "    unique_values_freq_df = df.groupBy(col_name).count().orderBy(F.desc(\"count\"))\n",
    "\n",
    "\n",
    "    \n",
    "    key_with_skew_percent_df = unique_values_freq_df.withColumn(\n",
    "        \"skew_percentile\", (F.col(\"count\") / F.lit(total_rows))*100\n",
    "    )\n",
    "    key_with_skew_percent_df.show(truncate=False)"
   ]
  },
  {
   "cell_type": "markdown",
   "id": "ec681406-4f61-4287-96e1-f656569445e6",
   "metadata": {},
   "source": [
    "#### Columns with Skew above 50%\n",
    "From the above data:\n",
    "- `fav_spaceship` -> \"Millennium Falcon\" = 64.12% -> Severe Skew\n",
    "- `fav_robot` -> \"R2-D2\" = 48.39% -> Borderline Skew\n",
    "- `fav_soundtrack` -> \"Star Wars (Main Theme)\" = 43.79 -> Borderline Skew\n",
    "These column require skew handling techniques like salting, especially if you're\n",
    "- Joining these columns\n",
    "- Aggregating/grouping by them\n",
    "- Seeing straggler tasks or long stages during shuffle"
   ]
  },
  {
   "cell_type": "markdown",
   "id": "cefea461-a53e-4577-9cec-775ebf62d78b",
   "metadata": {},
   "source": [
    "## Data Quality Checks (Before Transformation)\n",
    "Find incorrect data — for example, unexpected hero names."
   ]
  },
  {
   "cell_type": "code",
   "execution_count": 19,
   "id": "0f667964-09a7-4b24-b649-80fa92bb9960",
   "metadata": {},
   "outputs": [],
   "source": [
    "# Example valid hero List\n",
    "valid_heroes = [\n",
    "                \"Han Solo\",\n",
    "                \"Leia\",\n",
    "                \"Qui-Gon Jinn\",\n",
    "                \"Jar Jar Binks\",\n",
    "                \"Yoda\",\n",
    "                \"Luke Skywalker\",\n",
    "                \"Obi-Wan Kenobi\",\n",
    "                \"Anakin Skywalker\"\n",
    "               ]\n"
   ]
  },
  {
   "cell_type": "code",
   "execution_count": 20,
   "id": "22a2bac3-2301-411c-8580-af41d19ee1a9",
   "metadata": {},
   "outputs": [
    {
     "name": "stdout",
     "output_type": "stream",
     "text": [
      "+---------+---------+----------------+--------------------+--------------------+-----------------+----------+------------+\n",
      "|review_id|fav_heroe|     fav_villain|            fav_film|      fav_soundtrack|    fav_spaceship|fav_planet|   fav_robot|\n",
      "+---------+---------+----------------+--------------------+--------------------+-----------------+----------+------------+\n",
      "|       14|Chewbacca|General Grievous|Episode I - The P...|      Imperial March|      TIE Fighter|  Tatooine|    Droideka|\n",
      "|       19|Chewbacca|     Count Dooku|Episode V - The E...|Star Wars (Main T...|      TIE Fighter|     Endor|       C-3PO|\n",
      "|       44|Chewbacca|General Grievous|Episode III - Rev...|      Imperial March|Millennium Falcon|     Naboo|       R2-D2|\n",
      "|       57|Chewbacca|      Darth Maul|Episode IV - A Ne...|Star Wars (Main T...|Naboo Starfighter|   Dagobah|       R2-D2|\n",
      "|       74|Chewbacca|      Darth Maul|Episode V - The E...|      Imperial March|Naboo Starfighter|   Dagobah|       R2-D2|\n",
      "|       77|Chewbacca|  Wilhuff Tarkin|Episode I - The P...|Star Wars (Main T...|      TIE Fighter|     Naboo|       R2-D2|\n",
      "|       85|Chewbacca|     Darth Vader|Episode VI - Retu...|      Imperial March|Millennium Falcon|  Tatooine|Battle Droid|\n",
      "|       91|Chewbacca|      Darth Maul|Episode IV - A Ne...|      Imperial March|Millennium Falcon|  Tatooine|       C-3PO|\n",
      "|       99|Chewbacca|      Darth Maul|Episode V - The E...|Star Wars (Main T...|Millennium Falcon|  Tatooine|       R2-D2|\n",
      "|      168|Chewbacca|     Darth Vader|Episode V - The E...|      Imperial March|Millennium Falcon|  Alderaan|       R2-D2|\n",
      "|      174|Chewbacca|      Darth Maul|Episode IV - A Ne...|Star Wars (Main T...|Millennium Falcon|     Endor|       R2-D2|\n",
      "|      219|Chewbacca|     Darth Vader|Episode III - Rev...|Star Wars (Main T...|Millennium Falcon|  Tatooine|       R2-D2|\n",
      "|      231|Chewbacca|      Darth Maul|Episode III - Rev...|      Imperial March|Naboo Starfighter|  Tatooine|       C-3PO|\n",
      "|      239|Chewbacca|      Darth Maul|Episode V - The E...|Star Wars (Main T...|Millennium Falcon|     Naboo|       C-3PO|\n",
      "|      264|Chewbacca|       Palpatine|Episode IV - A Ne...|      Imperial March|Naboo Starfighter|     Naboo|       C-3PO|\n",
      "|      267|Chewbacca|     Count Dooku|Episode V - The E...|      Imperial March|Millennium Falcon|     Naboo|       R2-D2|\n",
      "|      279|Chewbacca|       Palpatine|Episode V - The E...|      Imperial March|Naboo Starfighter|  Tatooine|       R2-D2|\n",
      "|      296|Chewbacca|       Palpatine|Episode V - The E...|Star Wars (Main T...|Millennium Falcon|     Naboo|       C-3PO|\n",
      "|      309|Chewbacca|  Wilhuff Tarkin|Episode III - Rev...|Star Wars (Main T...|Millennium Falcon|     Naboo|       R2-D2|\n",
      "|      319|Chewbacca|      Darth Maul|Episode V - The E...|      Imperial March|Millennium Falcon|     Naboo|       R2-D2|\n",
      "+---------+---------+----------------+--------------------+--------------------+-----------------+----------+------------+\n",
      "only showing top 20 rows\n",
      "\n"
     ]
    }
   ],
   "source": [
    "# Check for invalid heroes\n",
    "invalid_heroes = df.filter(~F.col(\"fav_heroe\").isin(valid_heroes))\n",
    "invalid_heroes.show()"
   ]
  },
  {
   "cell_type": "markdown",
   "id": "183c9472-0d2c-4fce-a4b0-7b91c47e0236",
   "metadata": {},
   "source": [
    "## Data Transformations\n",
    "Clean and prepare"
   ]
  },
  {
   "cell_type": "markdown",
   "id": "915978b5-0b6b-432d-bf2d-0fe9578a80a2",
   "metadata": {},
   "source": [
    "#### Fill Missing Values"
   ]
  },
  {
   "cell_type": "code",
   "execution_count": 21,
   "id": "2993128e-f17a-4698-98de-f28f0da59b81",
   "metadata": {},
   "outputs": [],
   "source": [
    "df = df.fillna({\n",
    "    \"fav_heroe\": \"Unknown\",\n",
    "    \"fav_villain\": \"Unknown\",\n",
    "    \"fav_film\": \"Unknown\",\n",
    "    \"fav_planet\": \"Unknown\"\n",
    "})"
   ]
  },
  {
   "cell_type": "markdown",
   "id": "3c928c67-cbcc-4f1b-9f49-1bfb57455f80",
   "metadata": {},
   "source": [
    "#### Remove leading/trailing spaces and standardize case"
   ]
  },
  {
   "cell_type": "code",
   "execution_count": 22,
   "id": "1078a388-fe71-4f49-9d9d-473fce4c3033",
   "metadata": {},
   "outputs": [],
   "source": [
    "for col_name in [\"fav_heroe\", \"fav_villain\", \"fav_film\", \"fav_planet\"]:\n",
    "    df = df.withColumn(col_name, F.trim(F.col(col_name)))\n",
    "    df = df.withColumn(col_name, F.initcap(F.col(col_name)))  # Makes \"luke skywalker\" -> \"Luke Skywalker\""
   ]
  },
  {
   "cell_type": "markdown",
   "id": "3ff5a25e-4461-4aad-b47a-62b63dfa47aa",
   "metadata": {},
   "source": [
    "#### Handling Skewed Data\n",
    "Add salt column for skewed data, here \n"
   ]
  },
  {
   "cell_type": "code",
   "execution_count": 37,
   "id": "38ecaac1-c19e-4df3-a999-bec0d5d70bb5",
   "metadata": {},
   "outputs": [],
   "source": [
    "skewed_value = \"Millennium Falcon\"\n",
    "num_of_partitions = df.rdd.getNumPartitions()\n",
    "\n",
    "# Do not overfragment the data across all available partitions)\n",
    "salt_range = max(2, num_of_partitions//2) \n",
    "\n",
    "# add salt Column for rows with skewed value\n",
    "df = df.withColumn(\"salt\", F.when(F.col(\"fav_spaceship\") == skewed_value, F.floor(F.rand() * salt_range))\n",
    "                   .otherwise(F.lit(None))\n",
    "                  )            "
   ]
  },
  {
   "cell_type": "code",
   "execution_count": 38,
   "id": "32501cb8-4666-4377-8a5e-a9d88b676e1c",
   "metadata": {},
   "outputs": [
    {
     "name": "stdout",
     "output_type": "stream",
     "text": [
      "+---------+----------------+----------------+--------------------+--------------------+-----------------+----------+------------+----+--------------------+\n",
      "|review_id|       fav_heroe|     fav_villain|            fav_film|      fav_soundtrack|    fav_spaceship|fav_planet|   fav_robot|salt|fav_spaceship_salted|\n",
      "+---------+----------------+----------------+--------------------+--------------------+-----------------+----------+------------+----+--------------------+\n",
      "|        0|Anakin Skywalker|      Darth Maul|Episode Iv - A Ne...|   Accross the Stars|Naboo Starfighter|  Tatooine|       R2-D2|NULL|   Naboo Starfighter|\n",
      "|        1|Anakin Skywalker|      Darth Maul|Episode Iv - A Ne...|     The Throne Room|Naboo Starfighter|  Tatooine|Battle Droid|NULL|   Naboo Starfighter|\n",
      "|        2|  Luke Skywalker|     Count Dooku|Episode V - The E...|Star Wars (Main T...|Millennium Falcon|     Endor|       R2-D2|   0| Millennium Falcon_0|\n",
      "|        3|Anakin Skywalker|  Wilhuff Tarkin|Episode Vi - Retu...|     The Throne Room|Millennium Falcon|  Tatooine|       R2-D2|   0| Millennium Falcon_0|\n",
      "|        4|            Yoda|       Palpatine|Episode Iv - A Ne...|Star Wars (Main T...|Millennium Falcon|     Naboo|       C-3PO|   1| Millennium Falcon_1|\n",
      "|        5|Anakin Skywalker|  Wilhuff Tarkin|Episode I - The P...|      Imperial March|Millennium Falcon|     Naboo|       R2-D2|   1| Millennium Falcon_1|\n",
      "|        6|        Han Solo|      Darth Maul|Episode V - The E...|Star Wars (Main T...|Millennium Falcon|     Naboo|       R2-D2|   1| Millennium Falcon_1|\n",
      "|        7|  Luke Skywalker|      Darth Maul|Episode Iii - Rev...|Star Wars (Main T...|Millennium Falcon|  Tatooine|       C-3PO|   0| Millennium Falcon_0|\n",
      "|        8|            Yoda|       Palpatine|Episode Iv - A Ne...|Star Wars (Main T...|Naboo Starfighter|  Tatooine|       R2-D2|NULL|   Naboo Starfighter|\n",
      "|        9|  Obi-wan Kenobi|     Darth Vader|Episode V - The E...|  Anakin vs. Obi-Wan|Millennium Falcon|     Naboo|       C-3PO|   1| Millennium Falcon_1|\n",
      "|       10|  Luke Skywalker|     Darth Vader|Episode I - The P...|      Imperial March|      TIE Fighter|  Tatooine|       R2-D2|NULL|         TIE Fighter|\n",
      "|       11|  Luke Skywalker|     Darth Vader|Episode V - The E...|Star Wars (Main T...|Millennium Falcon|  Tatooine|       R2-D2|   1| Millennium Falcon_1|\n",
      "|       12|  Obi-wan Kenobi|      Darth Maul|Episode I - The P...|     The Throne Room|Naboo Starfighter|     Naboo|       R2-D2|NULL|   Naboo Starfighter|\n",
      "|       13|Anakin Skywalker|      Darth Maul|Episode Vi - Retu...|Star Wars (Main T...|Millennium Falcon|   Dagobah|       C-3PO|   1| Millennium Falcon_1|\n",
      "|       14|       Chewbacca|General Grievous|Episode I - The P...|      Imperial March|      TIE Fighter|  Tatooine|    Droideka|NULL|         TIE Fighter|\n",
      "|       15|Anakin Skywalker|     Darth Vader|Episode I - The P...|      Imperial March|Millennium Falcon|  Alderaan|       R2-D2|   0| Millennium Falcon_0|\n",
      "|       16|        Han Solo|     Count Dooku|Episode V - The E...|Star Wars (Main T...|      TIE Fighter|     Endor|       R2-D2|NULL|         TIE Fighter|\n",
      "|       17|Anakin Skywalker|General Grievous|Episode Iv - A Ne...|Star Wars (Main T...|Millennium Falcon|  Tatooine|       R2-D2|   0| Millennium Falcon_0|\n",
      "|       18|  Obi-wan Kenobi|  Wilhuff Tarkin|Episode V - The E...|      Imperial March|Millennium Falcon|  Tatooine|       R2-D2|   1| Millennium Falcon_1|\n",
      "|       19|       Chewbacca|     Count Dooku|Episode V - The E...|Star Wars (Main T...|      TIE Fighter|     Endor|       C-3PO|NULL|         TIE Fighter|\n",
      "+---------+----------------+----------------+--------------------+--------------------+-----------------+----------+------------+----+--------------------+\n",
      "only showing top 20 rows\n",
      "\n"
     ]
    }
   ],
   "source": [
    "df = df.withColumn(\"fav_spaceship_salted\", F.when(F.col(\"salt\").isNotNull(), F.concat_ws(\"_\", \"fav_spaceship\", \"salt\"))\n",
    "                   .otherwise(F.col(\"fav_spaceship\"))\n",
    "                  )\n",
    "df.show()"
   ]
  },
  {
   "cell_type": "code",
   "execution_count": 39,
   "id": "3cffe19f-e16c-4a69-afd0-ddc3ce2d1d30",
   "metadata": {},
   "outputs": [
    {
     "name": "stdout",
     "output_type": "stream",
     "text": [
      "+--------------------+--------+\n",
      "|fav_spaceship_salted|count(1)|\n",
      "+--------------------+--------+\n",
      "| Millennium Falcon_0|   11810|\n",
      "| Millennium Falcon_1|   11869|\n",
      "|          Death Star|     718|\n",
      "|         TIE Fighter|    4739|\n",
      "|   Naboo Starfighter|    7791|\n",
      "+--------------------+--------+\n",
      "\n"
     ]
    }
   ],
   "source": [
    "# now the values are evenly distriuted across partitions\n",
    "df.groupBy(\"fav_spaceship_salted\").agg(F.count(\"*\")).show()"
   ]
  },
  {
   "cell_type": "code",
   "execution_count": null,
   "id": "107a20bf-5893-4038-aa68-d4dd1be224f9",
   "metadata": {},
   "outputs": [],
   "source": []
  },
  {
   "cell_type": "markdown",
   "id": "f2dfbe93-9d41-4835-be3d-b5f11465dbe2",
   "metadata": {},
   "source": [
    "## Data Validation (After Transformation)"
   ]
  },
  {
   "cell_type": "code",
   "execution_count": 13,
   "id": "74c928b0-d01e-4d85-98bd-a74e6d8ed5dc",
   "metadata": {
    "scrolled": true
   },
   "outputs": [
    {
     "data": {
      "text/plain": [
       "1"
      ]
     },
     "execution_count": 13,
     "metadata": {},
     "output_type": "execute_result"
    }
   ],
   "source": [
    "df.rdd.getNumPartitions()\n"
   ]
  },
  {
   "cell_type": "code",
   "execution_count": 27,
   "id": "cda957e0-0e92-4039-b25b-677d53cacfc8",
   "metadata": {
    "scrolled": true
   },
   "outputs": [
    {
     "data": {
      "text/plain": [
       "['review_id',\n",
       " 'fav_heroe',\n",
       " 'fav_villain',\n",
       " 'fav_film',\n",
       " 'fav_soundtrack',\n",
       " 'fav_spaceship',\n",
       " 'fav_planet',\n",
       " 'fav_robot']"
      ]
     },
     "execution_count": 27,
     "metadata": {},
     "output_type": "execute_result"
    }
   ],
   "source": [
    "df.columns"
   ]
  },
  {
   "cell_type": "code",
   "execution_count": 14,
   "id": "fbda4ea7-5493-43f1-b10c-32dd3ff14b9b",
   "metadata": {},
   "outputs": [],
   "source": [
    "df = df.repartition(4)"
   ]
  },
  {
   "cell_type": "code",
   "execution_count": 15,
   "id": "30c293cb-2f19-42f8-8c26-39175ca822b9",
   "metadata": {},
   "outputs": [
    {
     "name": "stdout",
     "output_type": "stream",
     "text": [
      "CodeCache: size=262144Kb used=22089Kb max_used=22105Kb free=240054Kb\n",
      " bounds [0x000000010b1f8000, 0x000000010c7b8000, 0x000000011b1f8000]\n",
      " total_blobs=7964 nmethods=7044 adapters=832\n",
      " compilation: disabled (not enough contiguous free space left)\n"
     ]
    },
    {
     "name": "stderr",
     "output_type": "stream",
     "text": [
      "Java HotSpot(TM) 64-Bit Server VM warning: CodeCache is full. Compiler has been disabled.\n",
      "Java HotSpot(TM) 64-Bit Server VM warning: Try increasing the code cache size using -XX:ReservedCodeCacheSize=\n"
     ]
    },
    {
     "data": {
      "text/plain": [
       "4"
      ]
     },
     "execution_count": 15,
     "metadata": {},
     "output_type": "execute_result"
    }
   ],
   "source": [
    "df.rdd.getNumPartitions()"
   ]
  },
  {
   "cell_type": "code",
   "execution_count": 16,
   "id": "c6bb0d8f-c8d6-4a91-afc9-0663ece27689",
   "metadata": {},
   "outputs": [
    {
     "name": "stderr",
     "output_type": "stream",
     "text": [
      "Partition Starts ------------\n",
      "Row(review_id='19100', fav_heroe='Yoda', fav_villain='Palpatine', fav_film='Episode V - The Empire Strikes Back', fav_soundtrack='Star Wars (Main Theme)', fav_spaceship='Millennium Falcon', fav_planet='Tatooine', fav_robot='R2-D2')\n",
      "Partition Starts ------------\n",
      "Row(review_id='28930', fav_heroe='Anakin Skywalker', fav_villain='Darth Vader', fav_film='Episode VI - Return of the Jedi', fav_soundtrack='Imperial March', fav_spaceship='Millennium Falcon', fav_planet='Endor', fav_robot='R2-D2')\n",
      "Row(review_id='25133', fav_heroe='Yoda', fav_villain='Wilhuff Tarkin', fav_film='Episode V - The Empire Strikes Back', fav_soundtrack='Star Wars (Main Theme)', fav_spaceship='Naboo Starfighter', fav_planet='Tatooine', fav_robot='C-3PO')\n",
      "Row(review_id='17821', fav_heroe='Han Solo', fav_villain='Wilhuff Tarkin', fav_film='Episode VI - Return of the Jedi', fav_soundtrack='Star Wars (Main Theme)', fav_spaceship='Millennium Falcon', fav_planet='Tatooine', fav_robot='R2-D2')\n",
      "Row(review_id='13475', fav_heroe='Obi-Wan Kenobi', fav_villain='Darth Maul', fav_film='Episode VI - Return of the Jedi', fav_soundtrack='The Throne Room', fav_spaceship='Millennium Falcon', fav_planet='Dagobah', fav_robot='C-3PO')\n",
      "Row(review_id='35284', fav_heroe='Anakin Skywalker', fav_villain='Count Dooku', fav_film='Episode V - The Empire Strikes Back', fav_soundtrack='Star Wars (Main Theme)', fav_spaceship='Millennium Falcon', fav_planet='Endor', fav_robot='R2-D2')\n",
      "Row(review_id='11702', fav_heroe='Luke Skywalker', fav_villain='Wilhuff Tarkin', fav_film='Episode II - Attack of the Clones', fav_soundtrack='Star Wars (Main Theme)', fav_spaceship='Naboo Starfighter', fav_planet='Naboo', fav_robot='C-3PO')\n",
      "Row(review_id='18327', fav_heroe='Chewbacca', fav_villain='Count Dooku', fav_film='Episode IV - A New Hope', fav_soundtrack='Star Wars (Main Theme)', fav_spaceship='Naboo Starfighter', fav_planet='Tatooine', fav_robot='R2-D2')\n",
      "Partition Starts ------------\n",
      "Row(review_id='14704', fav_heroe='Anakin Skywalker', fav_villain='General Grievous', fav_film='Episode V - The Empire Strikes Back', fav_soundtrack='Star Wars (Main Theme)', fav_spaceship='Naboo Starfighter', fav_planet='Naboo', fav_robot='R2-D2')\n",
      "Row(review_id='13875', fav_heroe='Obi-Wan Kenobi', fav_villain='Darth Vader', fav_film='Episode IV - A New Hope', fav_soundtrack='Imperial March', fav_spaceship='Millennium Falcon', fav_planet='Endor', fav_robot='C-3PO')\n",
      "Row(review_id='12560', fav_heroe='Han Solo', fav_villain='Count Dooku', fav_film='Episode VI - Return of the Jedi', fav_soundtrack='Imperial March', fav_spaceship='Millennium Falcon', fav_planet='Tatooine', fav_robot='C-3PO')\n",
      "Row(review_id='18722', fav_heroe='Yoda', fav_villain='General Grievous', fav_film='Episode I - The Phantom Menace', fav_soundtrack='Star Wars (Main Theme)', fav_spaceship='Millennium Falcon', fav_planet='Tatooine', fav_robot='C-3PO')\n",
      "Partition Starts ------------\n",
      "Row(review_id='25048', fav_heroe='Han Solo', fav_villain='Wilhuff Tarkin', fav_film='Episode IV - A New Hope', fav_soundtrack='Star Wars (Main Theme)', fav_spaceship='Millennium Falcon', fav_planet='Tatooine', fav_robot='R2-D2')\n",
      "Row(review_id='19517', fav_heroe='Obi-Wan Kenobi', fav_villain='Darth Maul', fav_film='Episode VI - Return of the Jedi', fav_soundtrack='Imperial March', fav_spaceship='Millennium Falcon', fav_planet='Alderaan', fav_robot='R2-D2')\n",
      "Row(review_id='26133', fav_heroe='Obi-Wan Kenobi', fav_villain='Palpatine', fav_film='Episode III - Revenge of the Sith', fav_soundtrack='Star Wars (Main Theme)', fav_spaceship='Millennium Falcon', fav_planet='Tatooine', fav_robot='Battle Droid')\n",
      "Row(review_id='14389', fav_heroe='Leia', fav_villain='Palpatine', fav_film='Episode IV - A New Hope', fav_soundtrack='Anakin vs. Obi-Wan', fav_spaceship='Millennium Falcon', fav_planet='Naboo', fav_robot='R2-D2')\n"
     ]
    }
   ],
   "source": [
    "def print_partition_rows(partition):\n",
    "    print(\"Partition Starts ------------\")\n",
    "    c = 0\n",
    "    for row in partition:\n",
    "        c+=1\n",
    "        print(row)\n",
    "        if c==4:\n",
    "            break\n",
    "\n",
    "df.foreachPartition(print_partition_rows)\n"
   ]
  },
  {
   "cell_type": "code",
   "execution_count": null,
   "id": "5d019b26-f003-4337-bca8-41b53bcb79d1",
   "metadata": {},
   "outputs": [],
   "source": []
  },
  {
   "cell_type": "code",
   "execution_count": 1,
   "id": "90b4db8f-ff32-4306-a53e-c442845ba260",
   "metadata": {},
   "outputs": [
    {
     "ename": "NameError",
     "evalue": "name 'df' is not defined",
     "output_type": "error",
     "traceback": [
      "\u001b[31m---------------------------------------------------------------------------\u001b[39m",
      "\u001b[31mNameError\u001b[39m                                 Traceback (most recent call last)",
      "\u001b[36mCell\u001b[39m\u001b[36m \u001b[39m\u001b[32mIn[1]\u001b[39m\u001b[32m, line 4\u001b[39m\n\u001b[32m      1\u001b[39m \u001b[38;5;28;01mimport\u001b[39;00m\u001b[38;5;250m \u001b[39m\u001b[34;01mtime\u001b[39;00m\n\u001b[32m      3\u001b[39m start = time.time()\n\u001b[32m----> \u001b[39m\u001b[32m4\u001b[39m \u001b[43mdf\u001b[49m.groupBy(\u001b[33m\"\u001b[39m\u001b[33mfav_heroe\u001b[39m\u001b[33m\"\u001b[39m).count().collect()\n\u001b[32m      5\u001b[39m \u001b[38;5;28mprint\u001b[39m(\u001b[33m\"\u001b[39m\u001b[33mTime taken:\u001b[39m\u001b[33m\"\u001b[39m, time.time() - start)\n",
      "\u001b[31mNameError\u001b[39m: name 'df' is not defined"
     ]
    }
   ],
   "source": [
    "import time\n",
    "\n",
    "start = time.time()\n",
    "df.groupBy(\"fav_heroe\").count().collect()\n",
    "print(\"Time taken:\", time.time() - start)\n"
   ]
  },
  {
   "cell_type": "code",
   "execution_count": 18,
   "id": "c17755b5-074b-4010-8c49-03af120a84a8",
   "metadata": {},
   "outputs": [],
   "source": [
    "df = df.coalesce(1)"
   ]
  },
  {
   "cell_type": "code",
   "execution_count": 19,
   "id": "0065ac72-c40c-4653-9f70-eb8c6251a74e",
   "metadata": {},
   "outputs": [
    {
     "name": "stdout",
     "output_type": "stream",
     "text": [
      "Time taken: 0.1858351230621338\n"
     ]
    }
   ],
   "source": [
    "import time\n",
    "\n",
    "start = time.time()\n",
    "df.groupBy(\"fav_heroe\").count().collect()\n",
    "print(\"Time taken:\", time.time() - start)\n"
   ]
  },
  {
   "cell_type": "code",
   "execution_count": 20,
   "id": "1a43af8d-9d5b-4a59-9d0a-a5f0642c4071",
   "metadata": {},
   "outputs": [],
   "source": [
    "df = df.repartition(4)"
   ]
  },
  {
   "cell_type": "code",
   "execution_count": 21,
   "id": "8c9fe40c-e239-45b1-b6d7-cfbed6f48a2d",
   "metadata": {},
   "outputs": [
    {
     "name": "stdout",
     "output_type": "stream",
     "text": [
      "Time taken: 0.173295259475708\n"
     ]
    }
   ],
   "source": [
    "import time\n",
    "\n",
    "start = time.time()\n",
    "df.groupBy(\"fav_heroe\").count().collect()\n",
    "print(\"Time taken:\", time.time() - start)\n"
   ]
  },
  {
   "cell_type": "code",
   "execution_count": 22,
   "id": "937c5099-d3b9-43ce-ba66-06a7c80c81e0",
   "metadata": {},
   "outputs": [
    {
     "data": {
      "text/plain": [
       "36927"
      ]
     },
     "execution_count": 22,
     "metadata": {},
     "output_type": "execute_result"
    }
   ],
   "source": [
    "df.count()"
   ]
  }
 ],
 "metadata": {
  "kernelspec": {
   "display_name": "pyspark-env",
   "language": "python",
   "name": "pyspark-env"
  },
  "language_info": {
   "codemirror_mode": {
    "name": "ipython",
    "version": 3
   },
   "file_extension": ".py",
   "mimetype": "text/x-python",
   "name": "python",
   "nbconvert_exporter": "python",
   "pygments_lexer": "ipython3",
   "version": "3.13.0"
  }
 },
 "nbformat": 4,
 "nbformat_minor": 5
}
