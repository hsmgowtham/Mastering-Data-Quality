{
 "cells": [
  {
   "cell_type": "code",
   "execution_count": 1,
   "id": "1cc7de43-1f0e-4a9d-bcf0-2b9016e234be",
   "metadata": {},
   "outputs": [
    {
     "name": "stdout",
     "output_type": "stream",
     "text": [
      "Requirement already satisfied: pyspark in /Users/gowthamhanumanthu/Documents/MSS/12. Big Data/Mastering-Data-Quality/venv/lib/python3.13/site-packages (3.5.5)\n",
      "Requirement already satisfied: py4j==0.10.9.7 in /Users/gowthamhanumanthu/Documents/MSS/12. Big Data/Mastering-Data-Quality/venv/lib/python3.13/site-packages (from pyspark) (0.10.9.7)\n"
     ]
    }
   ],
   "source": [
    "!pip install pyspark;\n"
   ]
  },
  {
   "cell_type": "code",
   "execution_count": 1,
   "id": "fd3a6249-b7bd-4f52-af8c-9e343b767772",
   "metadata": {},
   "outputs": [],
   "source": [
    "import pyspark"
   ]
  },
  {
   "cell_type": "markdown",
   "id": "32e46d8f-e597-4830-8169-884a00807362",
   "metadata": {},
   "source": [
    "# Know your machine resources"
   ]
  },
  {
   "cell_type": "code",
   "execution_count": 2,
   "id": "31ebbdc4-db49-4f96-ac1d-c04ad125fa56",
   "metadata": {},
   "outputs": [
    {
     "name": "stdout",
     "output_type": "stream",
     "text": [
      "8\n",
      "17179869184\n"
     ]
    }
   ],
   "source": [
    "# CPU Cores\n",
    "!sysctl -n hw.logicalcpu\n",
    "\n",
    "# Memory in Bytes\n",
    "!sysctl -n hw.memsize"
   ]
  },
  {
   "cell_type": "code",
   "execution_count": 3,
   "id": "47a2945f-3cd0-4e84-ab7e-2d1a594d58ea",
   "metadata": {},
   "outputs": [
    {
     "data": {
      "text/plain": [
       "16.0"
      ]
     },
     "execution_count": 3,
     "metadata": {},
     "output_type": "execute_result"
    }
   ],
   "source": [
    "# Memory in GB\n",
    "17179869184/(1024**3)"
   ]
  },
  {
   "cell_type": "code",
   "execution_count": 4,
   "id": "aef09268-e6a6-4142-94e0-f116d57cb325",
   "metadata": {},
   "outputs": [],
   "source": [
    "MAX_MEMORY = '4g'\n",
    "MAX_MEMORY_OVERHEAD = '512m'\n",
    "MAX_DRIVER_MEMORY = '1g'"
   ]
  },
  {
   "cell_type": "code",
   "execution_count": 12,
   "id": "9c5b700e-1e2c-4f40-91fd-10827aa465ff",
   "metadata": {},
   "outputs": [],
   "source": [
    "conf = pyspark.SparkConf().setMaster(\"local[2]\") \\\n",
    "        .set('spark.executor.memory', MAX_MEMORY) \\\n",
    "        .set('spark.executor.memoryOverhead', MAX_MEMORY_OVERHEAD) \\\n",
    "        .set('spark.driver.memory', MAX_DRIVER_MEMORY)\n",
    "        # .set('spark.executor.heartbeatInterval', 10000) \\\n",
    "        # .set('spark.network.timeout', 10000) \\\n",
    "        # .set('spark.core.connection.ack.wait.timeout', '3600') \\"
   ]
  },
  {
   "cell_type": "code",
   "execution_count": 13,
   "id": "8575d116-6ec1-4d6c-81b5-2f81f4ce016d",
   "metadata": {},
   "outputs": [],
   "source": [
    "from pyspark.sql import SparkSession"
   ]
  },
  {
   "cell_type": "code",
   "execution_count": 14,
   "id": "178dd2f9-3368-49f8-990b-e211d8eda5cf",
   "metadata": {},
   "outputs": [],
   "source": [
    "def init_spark():\n",
    "    spark = SparkSession \\\n",
    "        .builder \\\n",
    "        .appName(\"StarWars - Data Quality Project\") \\\n",
    "        .config(conf=conf) \\\n",
    "        .getOrCreate()\n",
    "    return spark"
   ]
  },
  {
   "cell_type": "code",
   "execution_count": 15,
   "id": "245d7c6b-eb64-4397-9791-9ca6340aa96e",
   "metadata": {},
   "outputs": [],
   "source": [
    "spark = init_spark()"
   ]
  },
  {
   "cell_type": "code",
   "execution_count": 16,
   "id": "c6f17505-20c5-4b72-9bef-9fb2258a00fe",
   "metadata": {},
   "outputs": [],
   "source": [
    "df = spark.read.csv('star_wars_reviews.csv',header=True)"
   ]
  },
  {
   "cell_type": "code",
   "execution_count": 17,
   "id": "9413a6e9-128d-4e7f-92bf-057f6a45732e",
   "metadata": {},
   "outputs": [
    {
     "name": "stdout",
     "output_type": "stream",
     "text": [
      "+---------+----------------+--------------+--------------------+--------------------+-----------------+----------+------------+\n",
      "|review_id|       fav_heroe|   fav_villain|            fav_film|      fav_soundtrack|    fav_spaceship|fav_planet|   fav_robot|\n",
      "+---------+----------------+--------------+--------------------+--------------------+-----------------+----------+------------+\n",
      "|        0|Anakin Skywalker|    Darth Maul|Episode IV - A Ne...|   Accross the Stars|Naboo Starfighter|  Tatooine|       R2-D2|\n",
      "|        1|Anakin Skywalker|    Darth Maul|Episode IV - A Ne...|     The Throne Room|Naboo Starfighter|  Tatooine|Battle Droid|\n",
      "|        2|  Luke Skywalker|   Count Dooku|Episode V - The E...|Star Wars (Main T...|Millennium Falcon|     Endor|       R2-D2|\n",
      "|        3|Anakin Skywalker|Wilhuff Tarkin|Episode VI - Retu...|     The Throne Room|Millennium Falcon|  Tatooine|       R2-D2|\n",
      "|        4|            Yoda|     Palpatine|Episode IV - A Ne...|Star Wars (Main T...|Millennium Falcon|     Naboo|       C-3PO|\n",
      "+---------+----------------+--------------+--------------------+--------------------+-----------------+----------+------------+\n",
      "only showing top 5 rows\n",
      "\n"
     ]
    }
   ],
   "source": [
    "df.show(5)"
   ]
  },
  {
   "cell_type": "code",
   "execution_count": null,
   "id": "265262e8-0b6c-4554-98d5-d25874bb47d8",
   "metadata": {},
   "outputs": [],
   "source": []
  }
 ],
 "metadata": {
  "kernelspec": {
   "display_name": "pyspark-env",
   "language": "python",
   "name": "pyspark-env"
  },
  "language_info": {
   "codemirror_mode": {
    "name": "ipython",
    "version": 3
   },
   "file_extension": ".py",
   "mimetype": "text/x-python",
   "name": "python",
   "nbconvert_exporter": "python",
   "pygments_lexer": "ipython3",
   "version": "3.13.0"
  }
 },
 "nbformat": 4,
 "nbformat_minor": 5
}
