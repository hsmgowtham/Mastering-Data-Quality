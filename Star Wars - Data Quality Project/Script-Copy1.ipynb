{
 "cells": [
  {
   "cell_type": "markdown",
   "id": "3dc348b1-a123-48ab-b7e4-72feb0e750fb",
   "metadata": {},
   "source": [
    "# Star Wars - Data Quality Project"
   ]
  },
  {
   "cell_type": "code",
   "execution_count": 1,
   "id": "1cc7de43-1f0e-4a9d-bcf0-2b9016e234be",
   "metadata": {},
   "outputs": [
    {
     "name": "stdout",
     "output_type": "stream",
     "text": [
      "Requirement already satisfied: pyspark in /Users/gowthamhanumanthu/Documents/MSS/12. Big Data/Mastering-Data-Quality/venv/lib/python3.13/site-packages (3.5.5)\n",
      "Requirement already satisfied: py4j==0.10.9.7 in /Users/gowthamhanumanthu/Documents/MSS/12. Big Data/Mastering-Data-Quality/venv/lib/python3.13/site-packages (from pyspark) (0.10.9.7)\n"
     ]
    }
   ],
   "source": [
    "!pip install pyspark;\n"
   ]
  },
  {
   "cell_type": "code",
   "execution_count": 2,
   "id": "fd3a6249-b7bd-4f52-af8c-9e343b767772",
   "metadata": {},
   "outputs": [],
   "source": [
    "import pyspark"
   ]
  },
  {
   "cell_type": "markdown",
   "id": "32e46d8f-e597-4830-8169-884a00807362",
   "metadata": {},
   "source": [
    "### Know your machine resources"
   ]
  },
  {
   "cell_type": "code",
   "execution_count": 3,
   "id": "31ebbdc4-db49-4f96-ac1d-c04ad125fa56",
   "metadata": {},
   "outputs": [
    {
     "name": "stdout",
     "output_type": "stream",
     "text": [
      "8\n",
      "17179869184\n"
     ]
    }
   ],
   "source": [
    "# CPU Cores\n",
    "!sysctl -n hw.logicalcpu\n",
    "\n",
    "# Memory in Bytes\n",
    "!sysctl -n hw.memsize"
   ]
  },
  {
   "cell_type": "code",
   "execution_count": 4,
   "id": "47a2945f-3cd0-4e84-ab7e-2d1a594d58ea",
   "metadata": {},
   "outputs": [
    {
     "data": {
      "text/plain": [
       "16.0"
      ]
     },
     "execution_count": 4,
     "metadata": {},
     "output_type": "execute_result"
    }
   ],
   "source": [
    "# Memory in GB\n",
    "17179869184/(1024**3)"
   ]
  },
  {
   "cell_type": "code",
   "execution_count": 5,
   "id": "aef09268-e6a6-4142-94e0-f116d57cb325",
   "metadata": {},
   "outputs": [],
   "source": [
    "MAX_MEMORY = '4g'\n",
    "MAX_MEMORY_OVERHEAD = '512m'\n",
    "MAX_DRIVER_MEMORY = '1g'"
   ]
  },
  {
   "cell_type": "markdown",
   "id": "bc345030-6654-4ff4-9115-c5dfbdcca3b9",
   "metadata": {},
   "source": [
    "### Setup Config"
   ]
  },
  {
   "cell_type": "code",
   "execution_count": 6,
   "id": "9c5b700e-1e2c-4f40-91fd-10827aa465ff",
   "metadata": {},
   "outputs": [],
   "source": [
    "conf = pyspark.SparkConf().setMaster(\"local[2]\") \\\n",
    "        .set('spark.executor.memory', MAX_MEMORY) \\\n",
    "        .set('spark.executor.memoryOverhead', MAX_MEMORY_OVERHEAD) \\\n",
    "        .set('spark.driver.memory', MAX_DRIVER_MEMORY) \\\n",
    "        .set(\"spark.driver.extraJavaOptions\", \"-XX:ReservedCodeCacheSize=256m\") # code cache stores compiled code, and it can be full some times\n",
    "        # .set('spark.executor.heartbeatInterval', 10000) \\\n",
    "        # .set('spark.network.timeout', 10000) \\\n",
    "        # .set('spark.core.connection.ack.wait.timeout', '3600') \\"
   ]
  },
  {
   "cell_type": "code",
   "execution_count": 7,
   "id": "8575d116-6ec1-4d6c-81b5-2f81f4ce016d",
   "metadata": {},
   "outputs": [],
   "source": [
    "from pyspark.sql import SparkSession"
   ]
  },
  {
   "cell_type": "markdown",
   "id": "dff6a179-7fe5-493d-8f63-8b14ae9e4f4c",
   "metadata": {},
   "source": [
    "### Initialize Spark"
   ]
  },
  {
   "cell_type": "code",
   "execution_count": 8,
   "id": "178dd2f9-3368-49f8-990b-e211d8eda5cf",
   "metadata": {},
   "outputs": [],
   "source": [
    "def init_spark():\n",
    "    spark = SparkSession \\\n",
    "        .builder \\\n",
    "        .appName(\"StarWars - Data Quality Project\") \\\n",
    "        .config(conf=conf) \\\n",
    "        .getOrCreate()\n",
    "    return spark"
   ]
  },
  {
   "cell_type": "code",
   "execution_count": 9,
   "id": "245d7c6b-eb64-4397-9791-9ca6340aa96e",
   "metadata": {},
   "outputs": [
    {
     "name": "stderr",
     "output_type": "stream",
     "text": [
      "25/04/28 09:02:08 WARN Utils: Your hostname, Gowthams-MacBook-Air.local resolves to a loopback address: 127.0.0.1; using 192.168.4.246 instead (on interface en0)\n",
      "25/04/28 09:02:08 WARN Utils: Set SPARK_LOCAL_IP if you need to bind to another address\n",
      "Setting default log level to \"WARN\".\n",
      "To adjust logging level use sc.setLogLevel(newLevel). For SparkR, use setLogLevel(newLevel).\n",
      "25/04/28 09:02:08 WARN NativeCodeLoader: Unable to load native-hadoop library for your platform... using builtin-java classes where applicable\n"
     ]
    }
   ],
   "source": [
    "spark = init_spark()"
   ]
  },
  {
   "cell_type": "code",
   "execution_count": 10,
   "id": "c6f17505-20c5-4b72-9bef-9fb2258a00fe",
   "metadata": {},
   "outputs": [],
   "source": [
    "df = spark.read.csv('star_wars_reviews.csv',header=True)"
   ]
  },
  {
   "cell_type": "code",
   "execution_count": 11,
   "id": "9413a6e9-128d-4e7f-92bf-057f6a45732e",
   "metadata": {},
   "outputs": [
    {
     "name": "stdout",
     "output_type": "stream",
     "text": [
      "+---------+----------------+--------------+--------------------+--------------------+-----------------+----------+------------+\n",
      "|review_id|       fav_heroe|   fav_villain|            fav_film|      fav_soundtrack|    fav_spaceship|fav_planet|   fav_robot|\n",
      "+---------+----------------+--------------+--------------------+--------------------+-----------------+----------+------------+\n",
      "|        0|Anakin Skywalker|    Darth Maul|Episode IV - A Ne...|   Accross the Stars|Naboo Starfighter|  Tatooine|       R2-D2|\n",
      "|        1|Anakin Skywalker|    Darth Maul|Episode IV - A Ne...|     The Throne Room|Naboo Starfighter|  Tatooine|Battle Droid|\n",
      "|        2|  Luke Skywalker|   Count Dooku|Episode V - The E...|Star Wars (Main T...|Millennium Falcon|     Endor|       R2-D2|\n",
      "|        3|Anakin Skywalker|Wilhuff Tarkin|Episode VI - Retu...|     The Throne Room|Millennium Falcon|  Tatooine|       R2-D2|\n",
      "|        4|            Yoda|     Palpatine|Episode IV - A Ne...|Star Wars (Main T...|Millennium Falcon|     Naboo|       C-3PO|\n",
      "+---------+----------------+--------------+--------------------+--------------------+-----------------+----------+------------+\n",
      "only showing top 5 rows\n",
      "\n"
     ]
    }
   ],
   "source": [
    "df.show(5)"
   ]
  },
  {
   "cell_type": "markdown",
   "id": "5637a5ef-dba3-4643-9c06-fc1546706c09",
   "metadata": {},
   "source": [
    "## Data Profiling\n",
    "Understand the structure, missing values, distinct favorites, anomalies."
   ]
  },
  {
   "cell_type": "code",
   "execution_count": 23,
   "id": "265262e8-0b6c-4554-98d5-d25874bb47d8",
   "metadata": {},
   "outputs": [
    {
     "name": "stdout",
     "output_type": "stream",
     "text": [
      "root\n",
      " |-- review_id: string (nullable = true)\n",
      " |-- fav_heroe: string (nullable = true)\n",
      " |-- fav_villain: string (nullable = true)\n",
      " |-- fav_film: string (nullable = true)\n",
      " |-- fav_soundtrack: string (nullable = true)\n",
      " |-- fav_spaceship: string (nullable = true)\n",
      " |-- fav_planet: string (nullable = true)\n",
      " |-- fav_robot: string (nullable = true)\n",
      "\n"
     ]
    }
   ],
   "source": [
    "# Structure\n",
    "df.printSchema()"
   ]
  },
  {
   "cell_type": "code",
   "execution_count": 24,
   "id": "7ca74944-9ece-4b1c-bc50-45b79b38c51c",
   "metadata": {},
   "outputs": [
    {
     "name": "stderr",
     "output_type": "stream",
     "text": [
      "25/04/28 09:09:50 WARN SparkStringUtils: Truncated the string representation of a plan since it was too large. This behavior can be adjusted by setting 'spark.sql.debug.maxToStringFields'.\n",
      "[Stage 28:=============================>                            (2 + 2) / 4]"
     ]
    },
    {
     "name": "stdout",
     "output_type": "stream",
     "text": [
      "+-------+------------------+----------------+--------------+--------------------+-----------------+-------------+----------+------------+\n",
      "|summary|         review_id|       fav_heroe|   fav_villain|            fav_film|   fav_soundtrack|fav_spaceship|fav_planet|   fav_robot|\n",
      "+-------+------------------+----------------+--------------+--------------------+-----------------+-------------+----------+------------+\n",
      "|  count|             36927|           36927|         36927|               36927|            36927|        36927|     36927|       36927|\n",
      "|   mean|           18463.0|            NULL|          NULL|                NULL|             NULL|         NULL|      NULL|        NULL|\n",
      "| stddev|10660.051031772795|            NULL|          NULL|                NULL|             NULL|         NULL|      NULL|        NULL|\n",
      "|    min|                 0|Anakin Skywalker|   Count Dooku|Episode I - The P...|Accross the Stars|   Death Star|  Alderaan|Battle Droid|\n",
      "|    max|              9999|            Yoda|Wilhuff Tarkin|Episode VI - Retu...|  The Throne Room|  TIE Fighter|  Tatooine|       R2-D2|\n",
      "+-------+------------------+----------------+--------------+--------------------+-----------------+-------------+----------+------------+\n",
      "\n"
     ]
    },
    {
     "name": "stderr",
     "output_type": "stream",
     "text": [
      "                                                                                "
     ]
    }
   ],
   "source": [
    "# Basic Statistics\n",
    "df.describe().show()"
   ]
  },
  {
   "cell_type": "code",
   "execution_count": 26,
   "id": "2cb78af4-593c-4324-aab4-2b12fb034029",
   "metadata": {},
   "outputs": [
    {
     "name": "stdout",
     "output_type": "stream",
     "text": [
      "+---------+---------+-----------+--------+--------------+-------------+----------+---------+\n",
      "|review_id|fav_heroe|fav_villain|fav_film|fav_soundtrack|fav_spaceship|fav_planet|fav_robot|\n",
      "+---------+---------+-----------+--------+--------------+-------------+----------+---------+\n",
      "|        0|        0|          0|       0|             0|            0|         0|        0|\n",
      "+---------+---------+-----------+--------+--------------+-------------+----------+---------+\n",
      "\n"
     ]
    }
   ],
   "source": [
    "# 3. Missing/Null Counts\n",
    "from pyspark.sql import functions as F\n",
    "\n",
    "df.select([F.count(F.when(F.col(column).isNull(), column)).alias(column) for column in df.columns]).show()"
   ]
  },
  {
   "cell_type": "code",
   "execution_count": 28,
   "id": "84a145a0-6283-4d50-ab73-4fad0ce67f02",
   "metadata": {},
   "outputs": [
    {
     "name": "stdout",
     "output_type": "stream",
     "text": [
      "+----------------+\n",
      "|       fav_heroe|\n",
      "+----------------+\n",
      "|        Han Solo|\n",
      "|            Leia|\n",
      "|    Qui-Gon Jinn|\n",
      "|   Jar Jar Binks|\n",
      "|            Yoda|\n",
      "|  Luke Skywalker|\n",
      "|  Obi-Wan Kenobi|\n",
      "|Anakin Skywalker|\n",
      "|       Chewbacca|\n",
      "+----------------+\n",
      "\n",
      "+----------------+\n",
      "|     fav_villain|\n",
      "+----------------+\n",
      "|  Wilhuff Tarkin|\n",
      "|General Grievous|\n",
      "|       Palpatine|\n",
      "|     Count Dooku|\n",
      "|      Darth Maul|\n",
      "|     Darth Vader|\n",
      "+----------------+\n",
      "\n",
      "+--------------------+\n",
      "|            fav_film|\n",
      "+--------------------+\n",
      "|Episode I - The P...|\n",
      "|Episode III - Rev...|\n",
      "|Episode VI - Retu...|\n",
      "|Episode II - Atta...|\n",
      "|Episode IV - A Ne...|\n",
      "|Episode V - The E...|\n",
      "+--------------------+\n",
      "\n",
      "+--------------------+\n",
      "|      fav_soundtrack|\n",
      "+--------------------+\n",
      "|Star Wars (Main T...|\n",
      "|      Imperial March|\n",
      "|     The Throne Room|\n",
      "|   Accross the Stars|\n",
      "|  Anakin vs. Obi-Wan|\n",
      "+--------------------+\n",
      "\n",
      "+-----------------+\n",
      "|    fav_spaceship|\n",
      "+-----------------+\n",
      "|       Death Star|\n",
      "|Millennium Falcon|\n",
      "|      TIE Fighter|\n",
      "|Naboo Starfighter|\n",
      "+-----------------+\n",
      "\n",
      "+----------+\n",
      "|fav_planet|\n",
      "+----------+\n",
      "|     Endor|\n",
      "|   Dagobah|\n",
      "|  Alderaan|\n",
      "|  Tatooine|\n",
      "|     Naboo|\n",
      "+----------+\n",
      "\n",
      "+------------+\n",
      "|   fav_robot|\n",
      "+------------+\n",
      "|       C-3PO|\n",
      "|    Droideka|\n",
      "|Battle Droid|\n",
      "|       R2-D2|\n",
      "+------------+\n",
      "\n"
     ]
    }
   ],
   "source": [
    "# Distinct Values in Fav Columns\n",
    "for col_name in ['fav_heroe',\n",
    " 'fav_villain',\n",
    " 'fav_film',\n",
    " 'fav_soundtrack',\n",
    " 'fav_spaceship',\n",
    " 'fav_planet',\n",
    " 'fav_robot']:\n",
    "    df.select(col_name).distinct().show()"
   ]
  },
  {
   "cell_type": "code",
   "execution_count": 30,
   "id": "84886539-545a-4463-8eb0-2f8445cc7f7b",
   "metadata": {},
   "outputs": [
    {
     "name": "stdout",
     "output_type": "stream",
     "text": [
      "+---------+---------+-----------+--------+--------------+-------------+----------+---------+\n",
      "|review_id|fav_heroe|fav_villain|fav_film|fav_soundtrack|fav_spaceship|fav_planet|fav_robot|\n",
      "+---------+---------+-----------+--------+--------------+-------------+----------+---------+\n",
      "|    36927|        9|          6|       6|             5|            4|         5|        4|\n",
      "+---------+---------+-----------+--------+--------------+-------------+----------+---------+\n",
      "\n"
     ]
    }
   ],
   "source": [
    "# 5. Count distinct values in all columns\n",
    "df.agg(*[F.countDistinct(column).alias(column) for column in df.columns]).show()"
   ]
  },
  {
   "cell_type": "code",
   "execution_count": 13,
   "id": "74c928b0-d01e-4d85-98bd-a74e6d8ed5dc",
   "metadata": {},
   "outputs": [
    {
     "data": {
      "text/plain": [
       "1"
      ]
     },
     "execution_count": 13,
     "metadata": {},
     "output_type": "execute_result"
    }
   ],
   "source": [
    "df.rdd.getNumPartitions()\n"
   ]
  },
  {
   "cell_type": "code",
   "execution_count": 27,
   "id": "cda957e0-0e92-4039-b25b-677d53cacfc8",
   "metadata": {},
   "outputs": [
    {
     "data": {
      "text/plain": [
       "['review_id',\n",
       " 'fav_heroe',\n",
       " 'fav_villain',\n",
       " 'fav_film',\n",
       " 'fav_soundtrack',\n",
       " 'fav_spaceship',\n",
       " 'fav_planet',\n",
       " 'fav_robot']"
      ]
     },
     "execution_count": 27,
     "metadata": {},
     "output_type": "execute_result"
    }
   ],
   "source": [
    "df.columns"
   ]
  },
  {
   "cell_type": "code",
   "execution_count": 14,
   "id": "fbda4ea7-5493-43f1-b10c-32dd3ff14b9b",
   "metadata": {},
   "outputs": [],
   "source": [
    "df = df.repartition(4)"
   ]
  },
  {
   "cell_type": "code",
   "execution_count": 15,
   "id": "30c293cb-2f19-42f8-8c26-39175ca822b9",
   "metadata": {},
   "outputs": [
    {
     "name": "stdout",
     "output_type": "stream",
     "text": [
      "CodeCache: size=262144Kb used=22089Kb max_used=22105Kb free=240054Kb\n",
      " bounds [0x000000010b1f8000, 0x000000010c7b8000, 0x000000011b1f8000]\n",
      " total_blobs=7964 nmethods=7044 adapters=832\n",
      " compilation: disabled (not enough contiguous free space left)\n"
     ]
    },
    {
     "name": "stderr",
     "output_type": "stream",
     "text": [
      "Java HotSpot(TM) 64-Bit Server VM warning: CodeCache is full. Compiler has been disabled.\n",
      "Java HotSpot(TM) 64-Bit Server VM warning: Try increasing the code cache size using -XX:ReservedCodeCacheSize=\n"
     ]
    },
    {
     "data": {
      "text/plain": [
       "4"
      ]
     },
     "execution_count": 15,
     "metadata": {},
     "output_type": "execute_result"
    }
   ],
   "source": [
    "df.rdd.getNumPartitions()"
   ]
  },
  {
   "cell_type": "code",
   "execution_count": 16,
   "id": "c6bb0d8f-c8d6-4a91-afc9-0663ece27689",
   "metadata": {},
   "outputs": [
    {
     "name": "stderr",
     "output_type": "stream",
     "text": [
      "Partition Starts ------------\n",
      "Row(review_id='19100', fav_heroe='Yoda', fav_villain='Palpatine', fav_film='Episode V - The Empire Strikes Back', fav_soundtrack='Star Wars (Main Theme)', fav_spaceship='Millennium Falcon', fav_planet='Tatooine', fav_robot='R2-D2')\n",
      "Partition Starts ------------\n",
      "Row(review_id='28930', fav_heroe='Anakin Skywalker', fav_villain='Darth Vader', fav_film='Episode VI - Return of the Jedi', fav_soundtrack='Imperial March', fav_spaceship='Millennium Falcon', fav_planet='Endor', fav_robot='R2-D2')\n",
      "Row(review_id='25133', fav_heroe='Yoda', fav_villain='Wilhuff Tarkin', fav_film='Episode V - The Empire Strikes Back', fav_soundtrack='Star Wars (Main Theme)', fav_spaceship='Naboo Starfighter', fav_planet='Tatooine', fav_robot='C-3PO')\n",
      "Row(review_id='17821', fav_heroe='Han Solo', fav_villain='Wilhuff Tarkin', fav_film='Episode VI - Return of the Jedi', fav_soundtrack='Star Wars (Main Theme)', fav_spaceship='Millennium Falcon', fav_planet='Tatooine', fav_robot='R2-D2')\n",
      "Row(review_id='13475', fav_heroe='Obi-Wan Kenobi', fav_villain='Darth Maul', fav_film='Episode VI - Return of the Jedi', fav_soundtrack='The Throne Room', fav_spaceship='Millennium Falcon', fav_planet='Dagobah', fav_robot='C-3PO')\n",
      "Row(review_id='35284', fav_heroe='Anakin Skywalker', fav_villain='Count Dooku', fav_film='Episode V - The Empire Strikes Back', fav_soundtrack='Star Wars (Main Theme)', fav_spaceship='Millennium Falcon', fav_planet='Endor', fav_robot='R2-D2')\n",
      "Row(review_id='11702', fav_heroe='Luke Skywalker', fav_villain='Wilhuff Tarkin', fav_film='Episode II - Attack of the Clones', fav_soundtrack='Star Wars (Main Theme)', fav_spaceship='Naboo Starfighter', fav_planet='Naboo', fav_robot='C-3PO')\n",
      "Row(review_id='18327', fav_heroe='Chewbacca', fav_villain='Count Dooku', fav_film='Episode IV - A New Hope', fav_soundtrack='Star Wars (Main Theme)', fav_spaceship='Naboo Starfighter', fav_planet='Tatooine', fav_robot='R2-D2')\n",
      "Partition Starts ------------\n",
      "Row(review_id='14704', fav_heroe='Anakin Skywalker', fav_villain='General Grievous', fav_film='Episode V - The Empire Strikes Back', fav_soundtrack='Star Wars (Main Theme)', fav_spaceship='Naboo Starfighter', fav_planet='Naboo', fav_robot='R2-D2')\n",
      "Row(review_id='13875', fav_heroe='Obi-Wan Kenobi', fav_villain='Darth Vader', fav_film='Episode IV - A New Hope', fav_soundtrack='Imperial March', fav_spaceship='Millennium Falcon', fav_planet='Endor', fav_robot='C-3PO')\n",
      "Row(review_id='12560', fav_heroe='Han Solo', fav_villain='Count Dooku', fav_film='Episode VI - Return of the Jedi', fav_soundtrack='Imperial March', fav_spaceship='Millennium Falcon', fav_planet='Tatooine', fav_robot='C-3PO')\n",
      "Row(review_id='18722', fav_heroe='Yoda', fav_villain='General Grievous', fav_film='Episode I - The Phantom Menace', fav_soundtrack='Star Wars (Main Theme)', fav_spaceship='Millennium Falcon', fav_planet='Tatooine', fav_robot='C-3PO')\n",
      "Partition Starts ------------\n",
      "Row(review_id='25048', fav_heroe='Han Solo', fav_villain='Wilhuff Tarkin', fav_film='Episode IV - A New Hope', fav_soundtrack='Star Wars (Main Theme)', fav_spaceship='Millennium Falcon', fav_planet='Tatooine', fav_robot='R2-D2')\n",
      "Row(review_id='19517', fav_heroe='Obi-Wan Kenobi', fav_villain='Darth Maul', fav_film='Episode VI - Return of the Jedi', fav_soundtrack='Imperial March', fav_spaceship='Millennium Falcon', fav_planet='Alderaan', fav_robot='R2-D2')\n",
      "Row(review_id='26133', fav_heroe='Obi-Wan Kenobi', fav_villain='Palpatine', fav_film='Episode III - Revenge of the Sith', fav_soundtrack='Star Wars (Main Theme)', fav_spaceship='Millennium Falcon', fav_planet='Tatooine', fav_robot='Battle Droid')\n",
      "Row(review_id='14389', fav_heroe='Leia', fav_villain='Palpatine', fav_film='Episode IV - A New Hope', fav_soundtrack='Anakin vs. Obi-Wan', fav_spaceship='Millennium Falcon', fav_planet='Naboo', fav_robot='R2-D2')\n"
     ]
    }
   ],
   "source": [
    "def print_partition_rows(partition):\n",
    "    print(\"Partition Starts ------------\")\n",
    "    c = 0\n",
    "    for row in partition:\n",
    "        c+=1\n",
    "        print(row)\n",
    "        if c==4:\n",
    "            break\n",
    "\n",
    "df.foreachPartition(print_partition_rows)\n"
   ]
  },
  {
   "cell_type": "code",
   "execution_count": 17,
   "id": "90b4db8f-ff32-4306-a53e-c442845ba260",
   "metadata": {},
   "outputs": [
    {
     "name": "stdout",
     "output_type": "stream",
     "text": [
      "Time taken: 0.4172990322113037\n"
     ]
    }
   ],
   "source": [
    "import time\n",
    "\n",
    "start = time.time()\n",
    "df.groupBy(\"fav_heroe\").count().collect()\n",
    "print(\"Time taken:\", time.time() - start)\n"
   ]
  },
  {
   "cell_type": "code",
   "execution_count": 18,
   "id": "c17755b5-074b-4010-8c49-03af120a84a8",
   "metadata": {},
   "outputs": [],
   "source": [
    "df = df.coalesce(1)"
   ]
  },
  {
   "cell_type": "code",
   "execution_count": 19,
   "id": "0065ac72-c40c-4653-9f70-eb8c6251a74e",
   "metadata": {},
   "outputs": [
    {
     "name": "stdout",
     "output_type": "stream",
     "text": [
      "Time taken: 0.1858351230621338\n"
     ]
    }
   ],
   "source": [
    "import time\n",
    "\n",
    "start = time.time()\n",
    "df.groupBy(\"fav_heroe\").count().collect()\n",
    "print(\"Time taken:\", time.time() - start)\n"
   ]
  },
  {
   "cell_type": "code",
   "execution_count": 20,
   "id": "1a43af8d-9d5b-4a59-9d0a-a5f0642c4071",
   "metadata": {},
   "outputs": [],
   "source": [
    "df = df.repartition(4)"
   ]
  },
  {
   "cell_type": "code",
   "execution_count": 21,
   "id": "8c9fe40c-e239-45b1-b6d7-cfbed6f48a2d",
   "metadata": {},
   "outputs": [
    {
     "name": "stdout",
     "output_type": "stream",
     "text": [
      "Time taken: 0.173295259475708\n"
     ]
    }
   ],
   "source": [
    "import time\n",
    "\n",
    "start = time.time()\n",
    "df.groupBy(\"fav_heroe\").count().collect()\n",
    "print(\"Time taken:\", time.time() - start)\n"
   ]
  },
  {
   "cell_type": "code",
   "execution_count": 22,
   "id": "937c5099-d3b9-43ce-ba66-06a7c80c81e0",
   "metadata": {},
   "outputs": [
    {
     "data": {
      "text/plain": [
       "36927"
      ]
     },
     "execution_count": 22,
     "metadata": {},
     "output_type": "execute_result"
    }
   ],
   "source": [
    "df.count()"
   ]
  },
  {
   "cell_type": "markdown",
   "id": "b8794615-1219-47d9-baaa-a13e396e0f34",
   "metadata": {},
   "source": [
    "# Data Quality Checks"
   ]
  },
  {
   "cell_type": "code",
   "execution_count": null,
   "id": "2ad28acb-cc1f-4815-9fa0-9815936c0f49",
   "metadata": {},
   "outputs": [],
   "source": []
  }
 ],
 "metadata": {
  "kernelspec": {
   "display_name": "pyspark-env",
   "language": "python",
   "name": "pyspark-env"
  },
  "language_info": {
   "codemirror_mode": {
    "name": "ipython",
    "version": 3
   },
   "file_extension": ".py",
   "mimetype": "text/x-python",
   "name": "python",
   "nbconvert_exporter": "python",
   "pygments_lexer": "ipython3",
   "version": "3.13.0"
  }
 },
 "nbformat": 4,
 "nbformat_minor": 5
}
